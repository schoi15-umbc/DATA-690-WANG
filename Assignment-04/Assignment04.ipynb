{
  "nbformat": 4,
  "nbformat_minor": 0,
  "metadata": {
    "colab": {
      "name": "Assignment04.ipynb",
      "provenance": [],
      "collapsed_sections": []
    },
    "kernelspec": {
      "name": "python3",
      "display_name": "Python 3"
    }
  },
  "cells": [
    {
      "cell_type": "markdown",
      "metadata": {
        "id": "c3dfvMb0JJTm"
      },
      "source": [
        "\r\n",
        "**Assignment 04**\r\n",
        "\r\n",
        "**Author**: Sooyeon Choi **Date**: Feb 28, 2021\r\n",
        "\r\n"
      ]
    },
    {
      "cell_type": "markdown",
      "metadata": {
        "id": "JJp3lFkOMrJP"
      },
      "source": [
        "1. Write code to open the text file census_cost.txt and read all lines into a list named \"line_list\". Print line_list."
      ]
    },
    {
      "cell_type": "code",
      "metadata": {
        "colab": {
          "base_uri": "https://localhost:8080/"
        },
        "id": "iDhNExBQJCMk",
        "outputId": "0e8eca8a-593b-48ae-d298-76b5e2a2d20b"
      },
      "source": [
        "with open(\"census_cost.txt\",\"rt\") as f:\r\n",
        "    line_list = f.readlines()\r\n",
        "\r\n",
        "for row in line_list:\r\n",
        "  print(row)"
      ],
      "execution_count": 58,
      "outputs": [
        {
          "output_type": "stream",
          "text": [
            "Source: https://www.genealogybranches.com/censuscosts.html\n",
            "\n",
            "Census Year\tTotal Population\tCensus Cost\tAverage Cost Per Person\n",
            "\n",
            "1790\t3,929,214\t$44,377\t1.13 cents\n",
            "\n",
            "1800\t5,308,483\t$66,109\t1.24 cents\n",
            "\n",
            "1810\t7,239,881\t$178,445\t2.46 cents\n",
            "\n",
            "1820\t9,633,822\t$208,526\t2.16 cents\n",
            "\n",
            "1830\t12,866,020\t$378,545\t2.94 cents\n",
            "\n",
            "1840\t17,069,458\t$833,371\t4.88 cents\n",
            "\n",
            "1850\t23,191,876\t$1,423,351\t6.14 cents\n",
            "\n",
            "1860\t31,443,321\t$1,969,377\t6.26 cents\n",
            "\n",
            "1870\t38,558,371\t$3,421,198\t8.87 cents\n",
            "\n",
            "1880\t50,155,783\t$5,790,678\t11.54 cents\n",
            "\n",
            "1890\t62,979,766\t$11,547,127\t18.33 cents\n",
            "\n",
            "1900\t76,303,387\t$11,854,000\t15.54 cents\n",
            "\n",
            "1910\t91,972,266\t$15,968,000\t17.07 cents\n",
            "\n",
            "1920\t105,710,620\t$25,117,000\t23.76 cents\n",
            "\n",
            "1930\t122,775,046\t$40,156,000\t32.71 cents\n",
            "\n",
            "1940\t131,669,275\t$67,527,000\t51.29 cents\n",
            "\n",
            "1950\t151,325,798\t$91,462,000\t60.44 cents\n",
            "\n",
            "1960\t179,323,175\t$127,934,000\t71.34 cents\n",
            "\n",
            "1970\t203,302,031\t$247,653,000\t$1.22\n",
            "\n",
            "1980\t226,542,199\t$1,078,488,000\t$4.76\n",
            "\n",
            "1990\t248,718,301\t$2,492,830,000\t$10.02\n",
            "\n",
            "2000\t281,421,906\t$4.5 Billion\t$15.99\n",
            "\n",
            "2010*\t308,745,538\t$13 Billion\t$42.11\n",
            "\n"
          ],
          "name": "stdout"
        }
      ]
    },
    {
      "cell_type": "markdown",
      "metadata": {
        "id": "JOcng_NJMvwD"
      },
      "source": [
        "2. Extract the first two lines and put them in a different list named \"top2_list\". You will need to use them later. Print the top2_list."
      ]
    },
    {
      "cell_type": "code",
      "metadata": {
        "colab": {
          "base_uri": "https://localhost:8080/"
        },
        "id": "gfK037-EMwje",
        "outputId": "d56578e5-595b-4532-8e6e-2fd75a880407"
      },
      "source": [
        "top_2list =  line_list[0:2]\r\n",
        "print (top_2list)"
      ],
      "execution_count": 59,
      "outputs": [
        {
          "output_type": "stream",
          "text": [
            "['Source: https://www.genealogybranches.com/censuscosts.html\\n', 'Census Year\\tTotal Population\\tCensus Cost\\tAverage Cost Per Person\\n']\n"
          ],
          "name": "stdout"
        }
      ]
    },
    {
      "cell_type": "markdown",
      "metadata": {
        "id": "YsAatFuvMw3G"
      },
      "source": [
        "3. Put the rest of the lines (containing useful data elements) in a new list named \"data_list\". Print data_list.\r\n"
      ]
    },
    {
      "cell_type": "code",
      "metadata": {
        "colab": {
          "base_uri": "https://localhost:8080/"
        },
        "id": "NtB_8T3PMyzX",
        "outputId": "3ac5917f-fe5d-4c2c-be8f-862fa9db8750"
      },
      "source": [
        "data_list = line_list[2:]\r\n",
        "print (data_list)\r\n",
        "\r\n"
      ],
      "execution_count": 60,
      "outputs": [
        {
          "output_type": "stream",
          "text": [
            "['1790\\t3,929,214\\t$44,377\\t1.13 cents\\n', '1800\\t5,308,483\\t$66,109\\t1.24 cents\\n', '1810\\t7,239,881\\t$178,445\\t2.46 cents\\n', '1820\\t9,633,822\\t$208,526\\t2.16 cents\\n', '1830\\t12,866,020\\t$378,545\\t2.94 cents\\n', '1840\\t17,069,458\\t$833,371\\t4.88 cents\\n', '1850\\t23,191,876\\t$1,423,351\\t6.14 cents\\n', '1860\\t31,443,321\\t$1,969,377\\t6.26 cents\\n', '1870\\t38,558,371\\t$3,421,198\\t8.87 cents\\n', '1880\\t50,155,783\\t$5,790,678\\t11.54 cents\\n', '1890\\t62,979,766\\t$11,547,127\\t18.33 cents\\n', '1900\\t76,303,387\\t$11,854,000\\t15.54 cents\\n', '1910\\t91,972,266\\t$15,968,000\\t17.07 cents\\n', '1920\\t105,710,620\\t$25,117,000\\t23.76 cents\\n', '1930\\t122,775,046\\t$40,156,000\\t32.71 cents\\n', '1940\\t131,669,275\\t$67,527,000\\t51.29 cents\\n', '1950\\t151,325,798\\t$91,462,000\\t60.44 cents\\n', '1960\\t179,323,175\\t$127,934,000\\t71.34 cents\\n', '1970\\t203,302,031\\t$247,653,000\\t$1.22\\n', '1980\\t226,542,199\\t$1,078,488,000\\t$4.76\\n', '1990\\t248,718,301\\t$2,492,830,000\\t$10.02\\n', '2000\\t281,421,906\\t$4.5 Billion\\t$15.99\\n', '2010*\\t308,745,538\\t$13 Billion\\t$42.11\\n']\n"
          ],
          "name": "stdout"
        }
      ]
    },
    {
      "cell_type": "markdown",
      "metadata": {
        "id": "7j44jDr7My7m"
      },
      "source": [
        "4. Extract the column \"Census Year\" from data_list and assign them to a list named year_list. Remove the \"\" from the last element \"2010\". Print the cleansed year_list."
      ]
    },
    {
      "cell_type": "code",
      "metadata": {
        "colab": {
          "base_uri": "https://localhost:8080/"
        },
        "id": "C7QVR5hIM0t7",
        "outputId": "be04f4c5-7c9e-4bf7-af62-04ec4cac7989"
      },
      "source": [
        "year_list = []\r\n",
        "for row in data_list:\r\n",
        "    year = (row[0:4])\r\n",
        "    year_list.append(year)\r\n",
        "year_list"
      ],
      "execution_count": 41,
      "outputs": [
        {
          "output_type": "execute_result",
          "data": {
            "text/plain": [
              "['1790',\n",
              " '1800',\n",
              " '1810',\n",
              " '1820',\n",
              " '1830',\n",
              " '1840',\n",
              " '1850',\n",
              " '1860',\n",
              " '1870',\n",
              " '1880',\n",
              " '1890',\n",
              " '1900',\n",
              " '1910',\n",
              " '1920',\n",
              " '1930',\n",
              " '1940',\n",
              " '1950',\n",
              " '1960',\n",
              " '1970',\n",
              " '1980',\n",
              " '1990',\n",
              " '2000',\n",
              " '2010']"
            ]
          },
          "metadata": {
            "tags": []
          },
          "execution_count": 41
        }
      ]
    },
    {
      "cell_type": "markdown",
      "metadata": {
        "id": "b2Aq9M14M3TV"
      },
      "source": [
        "5. Extract the \"Total Population\" column from the data_list and assign them to a list named \"pop_list\". Remove the \",\" from the numbers since Python doesn't recognize them. Print the cleansed \"pop_list\"."
      ]
    },
    {
      "cell_type": "code",
      "metadata": {
        "id": "zDR_D5mMM4My",
        "colab": {
          "base_uri": "https://localhost:8080/"
        },
        "outputId": "889cd069-9b16-440d-81f2-5a85ddffa885"
      },
      "source": [
        "pop_list = []\r\n",
        "for line in data_list:\r\n",
        "  pop =line.split(\"\\t\")[1]\r\n",
        "  pop= pop.replace(\",\",\"\")\r\n",
        "  pop_list.append(pop)\r\n",
        "pop_list"
      ],
      "execution_count": 42,
      "outputs": [
        {
          "output_type": "execute_result",
          "data": {
            "text/plain": [
              "['3929214',\n",
              " '5308483',\n",
              " '7239881',\n",
              " '9633822',\n",
              " '12866020',\n",
              " '17069458',\n",
              " '23191876',\n",
              " '31443321',\n",
              " '38558371',\n",
              " '50155783',\n",
              " '62979766',\n",
              " '76303387',\n",
              " '91972266',\n",
              " '105710620',\n",
              " '122775046',\n",
              " '131669275',\n",
              " '151325798',\n",
              " '179323175',\n",
              " '203302031',\n",
              " '226542199',\n",
              " '248718301',\n",
              " '281421906',\n",
              " '308745538']"
            ]
          },
          "metadata": {
            "tags": []
          },
          "execution_count": 42
        }
      ]
    },
    {
      "cell_type": "markdown",
      "metadata": {
        "id": "1sR5ZsOFM4T2"
      },
      "source": [
        "6. Extract the \"Census Cost\" column from the data_list and assign them to a list named \"cost_list\". Remove the \",\", and \"$\", and \"Billion\". Make sure to add the \"0\"s to the numbers from which you removed \"Billion\". Print the cleansed cost_list."
      ]
    },
    {
      "cell_type": "code",
      "metadata": {
        "id": "ZJ4LPHJtM6-a",
        "colab": {
          "base_uri": "https://localhost:8080/"
        },
        "outputId": "bc7572cf-aa90-4e76-f0bb-bf067d8b2ffa"
      },
      "source": [
        "cost_list = []\r\n",
        "for line in data_list:\r\n",
        "  cost =line.split(\"\\t\")[2]\r\n",
        "  cost= cost.replace(\",\",\"\")\r\n",
        "  cost= cost.replace(\"$\",\"\")\r\n",
        "  cost= cost.replace(\"Billion\",\"000000000\")\r\n",
        "\r\n",
        "  cost_list.append(cost)\r\n",
        "cost_list"
      ],
      "execution_count": 43,
      "outputs": [
        {
          "output_type": "execute_result",
          "data": {
            "text/plain": [
              "['44377',\n",
              " '66109',\n",
              " '178445',\n",
              " '208526',\n",
              " '378545',\n",
              " '833371',\n",
              " '1423351',\n",
              " '1969377',\n",
              " '3421198',\n",
              " '5790678',\n",
              " '11547127',\n",
              " '11854000',\n",
              " '15968000',\n",
              " '25117000',\n",
              " '40156000',\n",
              " '67527000',\n",
              " '91462000',\n",
              " '127934000',\n",
              " '247653000',\n",
              " '1078488000',\n",
              " '2492830000',\n",
              " '4.5 000000000',\n",
              " '13 000000000']"
            ]
          },
          "metadata": {
            "tags": []
          },
          "execution_count": 43
        }
      ]
    },
    {
      "cell_type": "markdown",
      "metadata": {
        "id": "erNYSabHM7F3"
      },
      "source": [
        "7. Extract the \"Average Cost per Person\" column from the data_list and assign them to a list named \"avg_list\". Remove the \"cents\", and \"$\". Make sure to divide the numbers in cents by 100 so that all numbers are measured in dollar. Print the cleansed avg_list."
      ]
    },
    {
      "cell_type": "code",
      "metadata": {
        "id": "RTBO0lapM75D",
        "colab": {
          "base_uri": "https://localhost:8080/"
        },
        "outputId": "5374e990-5649-4b66-b391-400d911ef0c7"
      },
      "source": [
        "avg_list = []\r\n",
        "for line in data_list:\r\n",
        "  avgl =line.split(\"\\t\")[3]\r\n",
        "  avgl= avgl.replace(\"cents\",\"\")\r\n",
        "  avgl= avgl.replace(\"$\",\"\")\r\n",
        "\r\n",
        "  avg_list.append(avgl)\r\n",
        "avg_list"
      ],
      "execution_count": 52,
      "outputs": [
        {
          "output_type": "execute_result",
          "data": {
            "text/plain": [
              "['1.13 \\n',\n",
              " '1.24 \\n',\n",
              " '2.46 \\n',\n",
              " '2.16 \\n',\n",
              " '2.94 \\n',\n",
              " '4.88 \\n',\n",
              " '6.14 \\n',\n",
              " '6.26 \\n',\n",
              " '8.87 \\n',\n",
              " '11.54 \\n',\n",
              " '18.33 \\n',\n",
              " '15.54 \\n',\n",
              " '17.07 \\n',\n",
              " '23.76 \\n',\n",
              " '32.71 \\n',\n",
              " '51.29 \\n',\n",
              " '60.44 \\n',\n",
              " '71.34 \\n',\n",
              " '1.22\\n',\n",
              " '4.76\\n',\n",
              " '10.02\\n',\n",
              " '15.99\\n',\n",
              " '42.11\\n']"
            ]
          },
          "metadata": {
            "tags": []
          },
          "execution_count": 52
        }
      ]
    },
    {
      "cell_type": "markdown",
      "metadata": {
        "id": "A6SmXHpNM7_m"
      },
      "source": [
        "8. Coalesce the cleansed data and save them to a text file named \"census_cost.csv\". The new file should look similar to the original source file except that it is in comma-delimited format and the numbers have been cleansed. The top two lines from the original file should be retained in the new file."
      ]
    },
    {
      "cell_type": "code",
      "metadata": {
        "id": "kx9i8BzOM9eG",
        "colab": {
          "base_uri": "https://localhost:8080/"
        },
        "outputId": "c0ccdd39-ea0a-4b82-f08e-1ad429ff7163"
      },
      "source": [
        "for i in range(len(data_list)):\r\n",
        "\r\n",
        "  data_list[i] = data_list[i].replace(data_list[i].split(\"\\t\")[0], year_list[i])\r\n",
        "  data_list[i] = data_list[i].replace(data_list[i].split(\"\\t\")[1], pop_list[i])\r\n",
        "  data_list[i] = data_list[i].replace(data_list[i].split(\"\\t\")[2], cost_list[i])\r\n",
        "  data_list[i] = data_list[i].replace(data_list[i].split(\"\\t\")[3], avg_list[i])  \r\n",
        "\r\n",
        "new_file = []    \r\n",
        "for i in top_2list:\r\n",
        "  new_file.append(i)\r\n",
        "\r\n",
        "for i in data_list:\r\n",
        "  new_file.append(i)\r\n",
        "\r\n",
        "for row in new_file:\r\n",
        "  print(row)"
      ],
      "execution_count": 56,
      "outputs": [
        {
          "output_type": "stream",
          "text": [
            "Source: https://www.genealogybranches.com/censuscosts.html\n",
            "\n",
            "Census Year\tTotal Population\tCensus Cost\tAverage Cost Per Person\n",
            "\n",
            "1790\t3929214\t44377\t1.13 \n",
            "\n",
            "1800\t5308483\t66109\t1.24 \n",
            "\n",
            "1810\t7239881\t178445\t2.46 \n",
            "\n",
            "1820\t9633822\t208526\t2.16 \n",
            "\n",
            "1830\t12866020\t378545\t2.94 \n",
            "\n",
            "1840\t17069458\t833371\t4.88 \n",
            "\n",
            "1850\t23191876\t1423351\t6.14 \n",
            "\n",
            "1860\t31443321\t1969377\t6.26 \n",
            "\n",
            "1870\t38558371\t3421198\t8.87 \n",
            "\n",
            "1880\t50155783\t5790678\t11.54 \n",
            "\n",
            "1890\t62979766\t11547127\t18.33 \n",
            "\n",
            "1900\t76303387\t11854000\t15.54 \n",
            "\n",
            "1910\t91972266\t15968000\t17.07 \n",
            "\n",
            "1920\t105710620\t25117000\t23.76 \n",
            "\n",
            "1930\t122775046\t40156000\t32.71 \n",
            "\n",
            "1940\t131669275\t67527000\t51.29 \n",
            "\n",
            "1950\t151325798\t91462000\t60.44 \n",
            "\n",
            "1960\t179323175\t127934000\t71.34 \n",
            "\n",
            "1970\t203302031\t247653000\t1.22\n",
            "\n",
            "1980\t226542199\t1078488000\t4.76\n",
            "\n",
            "1990\t248718301\t2492830000\t10.02\n",
            "\n",
            "2000\t281421906\t4.5 000000000\t15.99\n",
            "\n",
            "2010\t308745538\t13 000000000\t42.11\n",
            "\n"
          ],
          "name": "stdout"
        }
      ]
    },
    {
      "cell_type": "markdown",
      "metadata": {
        "id": "U_JICcAoM9j-"
      },
      "source": [
        "9 - Write code to open the newly-created file \"census_cost.csv\", read all lines and display them. How does it look?"
      ]
    },
    {
      "cell_type": "code",
      "metadata": {
        "colab": {
          "base_uri": "https://localhost:8080/"
        },
        "id": "DV4yydWqKYQu",
        "outputId": "7729607d-d8b8-46f1-9fc4-f4f4a7873206"
      },
      "source": [
        "import csv\r\n",
        "with open('census_cost.csv', 'r') as file:\r\n",
        "    reader = csv.reader(file)\r\n",
        "    for row in reader:\r\n",
        "        print(row)"
      ],
      "execution_count": 70,
      "outputs": [
        {
          "output_type": "stream",
          "text": [
            "['Source: https://www.genealogybranches.com/censuscosts.html']\n",
            "['Census Year', 'Total Population', 'Census Cost', 'Average Cost Per Person']\n",
            "['1790', '3929214', '44377', '1.13 ']\n",
            "['1800', '5308483', '66109', '1.24 ']\n",
            "['1810', '7239881', '178445', '2.46 ']\n",
            "['1820', '9633822', '208526', '2.16 ']\n",
            "['1830', '12866020', '378545', '2.94 ']\n",
            "['1840', '17069458', '833371', '4.88 ']\n",
            "['1850', '23191876', '1423351', '6.14 ']\n",
            "['1860', '31443321', '1969377', '6.26 ']\n",
            "['1870', '38558371', '3421198', '8.87 ']\n",
            "['1880', '50155783', '5790678', '11.54 ']\n",
            "['1890', '62979766', '11547127', '18.33 ']\n",
            "['1900', '76303387', '11854000', '15.54 ']\n",
            "['1910', '91972266', '15968000', '17.07 ']\n",
            "['1920', '105710620', '25117000', '23.76 ']\n",
            "['1930', '122775046', '40156000', '32.71 ']\n",
            "['1940', '131669275', '67527000', '51.29 ']\n",
            "['1950', '151325798', '91462000', '60.44 ']\n",
            "['1960', '179323175', '127934000', '71.34 ']\n",
            "['1970', '203302031', '247653000', '1.22']\n",
            "['1980', '226542199', '1078488000', '4.76']\n",
            "['1990', '248718301', '2492830000', '10.02']\n",
            "['2000', '281421906', '4.5 000000000', '15.99']\n",
            "['2010', '308745538', '13 000000000', '42.11']\n"
          ],
          "name": "stdout"
        }
      ]
    }
  ]
}