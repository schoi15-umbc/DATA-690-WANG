{
  "nbformat": 4,
  "nbformat_minor": 0,
  "metadata": {
    "kernelspec": {
      "display_name": "Python 3",
      "language": "python",
      "name": "python3"
    },
    "language_info": {
      "codemirror_mode": {
        "name": "ipython",
        "version": 3
      },
      "file_extension": ".py",
      "mimetype": "text/x-python",
      "name": "python",
      "nbconvert_exporter": "python",
      "pygments_lexer": "ipython3",
      "version": "3.7.1"
    },
    "colab": {
      "name": "assignment_09.ipynb",
      "provenance": []
    }
  },
  "cells": [
    {
      "cell_type": "markdown",
      "metadata": {
        "id": "QO-ZnKTTvwjM"
      },
      "source": [
        "### Assignment # 09 - Point Estimate and Interval Estimate (Confidence Interval)\n",
        "\n",
        "A random survey of enrollment at **35** community colleges across the United States yielded the following figures: \n",
        "\n",
        "6,414; 1,550; 2,109; 9,350; 21,828; 4,300; 5,944; 5,722; 2,825; 2,044;\n",
        "\n",
        "5,481; 5,200; 5,853; 2,750; 10,012; 6,357; 27,000; 9,414; 7,681; 3,200; \n",
        "\n",
        "17,500; 9,200; 7,380; 18,314; 6,557; 13,713; 17,768; 7,493; 2,771; 2,861; \n",
        "\n",
        "1,263; 7,285; 28,165; 5,080; 11,622\n",
        "\n",
        "Perform point estimate and interval estimate with **95% confidence level** using **t-distribution**.\n",
        "\n",
        "Since we don't know the population variance, we use t-distribiution instead of normal distribution."
      ]
    },
    {
      "cell_type": "code",
      "metadata": {
        "id": "RQBJ3BvgvwjO"
      },
      "source": [
        "# Import Python packages\n",
        "import pandas as pd \n",
        "import numpy as np\n",
        "from scipy.stats import t\n"
      ],
      "execution_count": 13,
      "outputs": []
    },
    {
      "cell_type": "markdown",
      "metadata": {
        "id": "yGj7WnubvwjP"
      },
      "source": [
        "### Step 0 - Data Preprocessing \n",
        "\n",
        "Process the raw data to make a list of integers. In order to calculate descriptive statistic, Python needs to work with a list of numbers.\n",
        "### note:\n",
        "Don't manually make the list by hand-typing the numbers. Write code to automate the data preparation."
      ]
    },
    {
      "cell_type": "code",
      "metadata": {
        "id": "FKeAFctVvwjP",
        "colab": {
          "base_uri": "https://localhost:8080/",
          "height": 52
        },
        "outputId": "1e28d413-2b32-41f7-dafd-71a7f33dd649"
      },
      "source": [
        "# make each line of numbers a string object and then concatenate them together \n",
        "# The end result is one single string containing 35 numbers separated by \";\"\n",
        "\n",
        "data_1 = \"6,414; 1,550; 2,109; 9,350; 21,828; 4,300; 5,944; 5,722; 2,825; 2,044;\" \n",
        "data_2 = \"5,481; 5,200; 5,853; 2,750; 10,012; 6,357; 27,000; 9,414; 7,681; 3,200; \"\n",
        "data_3 = \"17,500; 9,200; 7,380; 18,314; 6,557; 13,713; 17,768; 7,493; 2,771; 2,861; \"\n",
        "data_4 = \"1,263; 7,285; 28,165; 5,080; 11,622\"\n",
        "data = data_1 + data_2 + data_3 + data_4\n",
        "data"
      ],
      "execution_count": 2,
      "outputs": [
        {
          "output_type": "execute_result",
          "data": {
            "application/vnd.google.colaboratory.intrinsic+json": {
              "type": "string"
            },
            "text/plain": [
              "'6,414; 1,550; 2,109; 9,350; 21,828; 4,300; 5,944; 5,722; 2,825; 2,044;5,481; 5,200; 5,853; 2,750; 10,012; 6,357; 27,000; 9,414; 7,681; 3,200; 17,500; 9,200; 7,380; 18,314; 6,557; 13,713; 17,768; 7,493; 2,771; 2,861; 1,263; 7,285; 28,165; 5,080; 11,622'"
            ]
          },
          "metadata": {
            "tags": []
          },
          "execution_count": 2
        }
      ]
    },
    {
      "cell_type": "code",
      "metadata": {
        "id": "jY622A35vwjU",
        "colab": {
          "base_uri": "https://localhost:8080/"
        },
        "outputId": "843d007f-4b0f-47db-d6e1-87c38047cf68"
      },
      "source": [
        "# Convert the single string to a list of strings using split() function\n",
        "# Make sure to specify a delimter or separator\n",
        "\n",
        "new_string = data.split(';')\n",
        "print(\"Converted string to list : \",new_string)\n"
      ],
      "execution_count": 3,
      "outputs": [
        {
          "output_type": "stream",
          "text": [
            "Converted string to list :  ['6,414', ' 1,550', ' 2,109', ' 9,350', ' 21,828', ' 4,300', ' 5,944', ' 5,722', ' 2,825', ' 2,044', '5,481', ' 5,200', ' 5,853', ' 2,750', ' 10,012', ' 6,357', ' 27,000', ' 9,414', ' 7,681', ' 3,200', ' 17,500', ' 9,200', ' 7,380', ' 18,314', ' 6,557', ' 13,713', ' 17,768', ' 7,493', ' 2,771', ' 2,861', ' 1,263', ' 7,285', ' 28,165', ' 5,080', ' 11,622']\n"
          ],
          "name": "stdout"
        }
      ]
    },
    {
      "cell_type": "markdown",
      "metadata": {
        "id": "S3loEFuJ3fdT"
      },
      "source": [
        "Create a list of integers from the list of strings using List Comprehension or for loop. Make sure to remove the \",\" first and then convert the strings to integers."
      ]
    },
    {
      "cell_type": "code",
      "metadata": {
        "id": "_b8yjF0hvwjV",
        "colab": {
          "base_uri": "https://localhost:8080/"
        },
        "outputId": "5f20d32b-c3cb-4fec-98d7-7415a56feb56"
      },
      "source": [
        "newlist=[int(x.replace(',','')) for x in new_string]\n",
        "newlist"
      ],
      "execution_count": 4,
      "outputs": [
        {
          "output_type": "execute_result",
          "data": {
            "text/plain": [
              "[6414,\n",
              " 1550,\n",
              " 2109,\n",
              " 9350,\n",
              " 21828,\n",
              " 4300,\n",
              " 5944,\n",
              " 5722,\n",
              " 2825,\n",
              " 2044,\n",
              " 5481,\n",
              " 5200,\n",
              " 5853,\n",
              " 2750,\n",
              " 10012,\n",
              " 6357,\n",
              " 27000,\n",
              " 9414,\n",
              " 7681,\n",
              " 3200,\n",
              " 17500,\n",
              " 9200,\n",
              " 7380,\n",
              " 18314,\n",
              " 6557,\n",
              " 13713,\n",
              " 17768,\n",
              " 7493,\n",
              " 2771,\n",
              " 2861,\n",
              " 1263,\n",
              " 7285,\n",
              " 28165,\n",
              " 5080,\n",
              " 11622]"
            ]
          },
          "metadata": {
            "tags": []
          },
          "execution_count": 4
        }
      ]
    },
    {
      "cell_type": "markdown",
      "metadata": {
        "id": "rztZ5pJtvwjX"
      },
      "source": [
        "### Step 1 - Calculate and Display the Sample Size and Sample Mean"
      ]
    },
    {
      "cell_type": "code",
      "metadata": {
        "id": "MRjPNo1kvwjX",
        "colab": {
          "base_uri": "https://localhost:8080/"
        },
        "outputId": "8a5cc32f-31f1-448b-e8c9-2f0fed6ef1b9"
      },
      "source": [
        "# Calculate and display the sample size\n",
        "sample_size = len(newlist)\n",
        "print(\"Sample Size = \" , sample_size)\n"
      ],
      "execution_count": 5,
      "outputs": [
        {
          "output_type": "stream",
          "text": [
            "Sample Size =  35\n"
          ],
          "name": "stdout"
        }
      ]
    },
    {
      "cell_type": "code",
      "metadata": {
        "id": "Sfe6XfmWvwjY",
        "colab": {
          "base_uri": "https://localhost:8080/"
        },
        "outputId": "3808e27e-902f-4536-a620-a51774d78f4f"
      },
      "source": [
        "# Calculate and display the sample mean\n",
        "sample_mean=round(sum(newlist)/sample_size)\n",
        "print('Sample mean =', sample_mean)"
      ],
      "execution_count": 19,
      "outputs": [
        {
          "output_type": "stream",
          "text": [
            "Sample mean = 8629\n"
          ],
          "name": "stdout"
        }
      ]
    },
    {
      "cell_type": "markdown",
      "metadata": {
        "id": "uJl_KNgVvwjZ"
      },
      "source": [
        "The point estimate of the mean enrollment of US community colleges is **8629**."
      ]
    },
    {
      "cell_type": "markdown",
      "metadata": {
        "id": "FE43zdBnvwja"
      },
      "source": [
        "### Step 2 - Calculate and Display the Sample Standard Deviation & Sample Standard Error\n",
        "\n",
        "Sample Standard Deviation $S=\\sqrt{\\dfrac{1}{n-1}\\sum\\limits_{i=1}^n (X_i-\\bar{X})^2}$\n",
        "\n",
        "Sample Standard Error = $\\dfrac{S}{\\sqrt{n}}$\n",
        "\n",
        "Note: The default **Delta Degree of Freedom (DDOF)** for Numpy's std function is 0 which is applicable to populate data. For sample data, we need to specify **ddof=1**. \n",
        "\n",
        "For the enrollment data, we round up the statistics to be the full integers (no decimal points).\n"
      ]
    },
    {
      "cell_type": "code",
      "metadata": {
        "id": "Yy2-ewJSvwja",
        "colab": {
          "base_uri": "https://localhost:8080/"
        },
        "outputId": "6d6e0566-a30f-474c-c57d-b81aa58a3f28"
      },
      "source": [
        "# Calculate and display the sample standard deviation using Numpy's std function.\n",
        "std=round(np.std(newlist, ddof=1))\n",
        "print('Sample Standard Deviation =', std)"
      ],
      "execution_count": 9,
      "outputs": [
        {
          "output_type": "stream",
          "text": [
            "Sample Standard Deviation = 6944\n"
          ],
          "name": "stdout"
        }
      ]
    },
    {
      "cell_type": "code",
      "metadata": {
        "id": "l_VyIgHTvwjc",
        "colab": {
          "base_uri": "https://localhost:8080/"
        },
        "outputId": "4beb2c6c-858a-49a7-b70b-f6ed6aaf2c84"
      },
      "source": [
        "# Calculate and display the sample standard error\n",
        "\n",
        "sse=round(std/ np.sqrt(sample_size))\n",
        "print('Sample Standard Error is', sse)"
      ],
      "execution_count": 12,
      "outputs": [
        {
          "output_type": "stream",
          "text": [
            "Sample Standard Error is 1174\n"
          ],
          "name": "stdout"
        }
      ]
    },
    {
      "cell_type": "markdown",
      "metadata": {
        "id": "IynJoUaJvwjc"
      },
      "source": [
        "### Step 3 - Calculate t Critical Value using t-Distribution \n",
        "\n",
        "$\\alpha$ = 1 - Confidence Level = 1 - 95% = 0.05\n",
        "\n",
        "$\\dfrac{\\alpha}{2}$ = 0.025\n",
        "\n",
        "n (sample size) = 35\n",
        "\n",
        "df (degree of freedom) = n - 1 = 35 - 1 = 34\n",
        "\n",
        "We will use Python scipy.stats t-distribution's PPF (Percentage Point Function) to calculate t critical value $t_{0.025,34}$."
      ]
    },
    {
      "cell_type": "code",
      "metadata": {
        "id": "24_EeyVwvwjd",
        "colab": {
          "base_uri": "https://localhost:8080/"
        },
        "outputId": "76516817-0821-4823-f58c-30f0b0bf3047"
      },
      "source": [
        "# Calculate and display the t critical value using scipy.stats.t package ppf function\n",
        "t_cv = round(t.ppf(q=1-.025,df=34),2)\n",
        "print(\"t critical value = \", t_cv)\n"
      ],
      "execution_count": 14,
      "outputs": [
        {
          "output_type": "stream",
          "text": [
            "t critical value =  2.03\n"
          ],
          "name": "stdout"
        }
      ]
    },
    {
      "cell_type": "markdown",
      "metadata": {
        "id": "qyyUKSjhvwje"
      },
      "source": [
        "### Step 4 - Calculate the Margin of Error\n",
        "\n",
        "Margin of Error = t-Statistics * Sample Standard Error = $t_{\\alpha/2,n-1}\\left(\\dfrac{s}{\\sqrt{n}}\\right)$"
      ]
    },
    {
      "cell_type": "code",
      "metadata": {
        "id": "13aQGtICvwje",
        "colab": {
          "base_uri": "https://localhost:8080/"
        },
        "outputId": "d933187f-abce-48bc-d99a-668c49df366f"
      },
      "source": [
        "# Calculate and display the margin of error\n",
        "me = round(t_cv * sse)\n",
        "print(\"Margin of Error:\", me)"
      ],
      "execution_count": 16,
      "outputs": [
        {
          "output_type": "stream",
          "text": [
            "Margin of Error: 2383\n"
          ],
          "name": "stdout"
        }
      ]
    },
    {
      "cell_type": "markdown",
      "metadata": {
        "id": "W5C_lR0lvwje"
      },
      "source": [
        "### Step 5 - Calculate Lower and Upper Limit of the Confidence Interval\n",
        "\n",
        "Lower Limit = Sample Mean - Margin of Error\n",
        "\n",
        "Upper Limit = Sample Mean + Margin of Error"
      ]
    },
    {
      "cell_type": "code",
      "metadata": {
        "id": "-n9Vs8Kfvwje",
        "colab": {
          "base_uri": "https://localhost:8080/"
        },
        "outputId": "5588c854-ce93-43e5-9f6a-9cadd681d234"
      },
      "source": [
        "# Calculate and display the lower limit\n",
        "ll = sample_mean - me\n",
        "print(\"Lower Limit: \", ll)\n"
      ],
      "execution_count": 20,
      "outputs": [
        {
          "output_type": "stream",
          "text": [
            "Lower Limit:  6246\n"
          ],
          "name": "stdout"
        }
      ]
    },
    {
      "cell_type": "code",
      "metadata": {
        "id": "gyH6Ii_3vwje",
        "colab": {
          "base_uri": "https://localhost:8080/"
        },
        "outputId": "b20e7a70-c291-42ed-d402-a9a83bab1926"
      },
      "source": [
        "# Calculate and display the upper limit\n",
        "ul = sample_mean+ me\n",
        "print(\"Upper Limit: \",ul)\n"
      ],
      "execution_count": 21,
      "outputs": [
        {
          "output_type": "stream",
          "text": [
            "Upper Limit:  11012\n"
          ],
          "name": "stdout"
        }
      ]
    },
    {
      "cell_type": "markdown",
      "metadata": {
        "id": "ZGeD7v16vwje"
      },
      "source": [
        "### Step 6 - Now We have the 95% Confidence Interval\n",
        "Confidence Interval ($\\sigma$ unknown) = $\\bar{x}\\space\\pm\\space t_{\\alpha/2}\\left(\\dfrac{S}{\\sqrt{n}}\\right)$ = Sample_Mean $\\pm$ Margin of Error"
      ]
    },
    {
      "cell_type": "code",
      "metadata": {
        "id": "lGOOdnOmvwje",
        "colab": {
          "base_uri": "https://localhost:8080/"
        },
        "outputId": "fb811b42-6c7a-4fde-f05e-53121ab4a3bf"
      },
      "source": [
        "# Print the 95% confidence interveral in the form (lower limit, upper limit)\n",
        "\n",
        "print(\"The 95% confidence interval = \",(ll, ul))"
      ],
      "execution_count": 22,
      "outputs": [
        {
          "output_type": "stream",
          "text": [
            "The 95% confidence interval =  (6246, 11012)\n"
          ],
          "name": "stdout"
        }
      ]
    },
    {
      "cell_type": "markdown",
      "metadata": {
        "id": "ntrz7Ouevwjf"
      },
      "source": [
        "### The End"
      ]
    }
  ]
}