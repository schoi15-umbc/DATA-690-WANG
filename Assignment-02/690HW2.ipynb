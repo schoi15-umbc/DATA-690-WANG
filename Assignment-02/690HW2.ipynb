{
  "nbformat": 4,
  "nbformat_minor": 0,
  "metadata": {
    "colab": {
      "name": "690HW2.ipynb",
      "provenance": []
    },
    "kernelspec": {
      "name": "python3",
      "display_name": "Python 3"
    }
  },
  "cells": [
    {
      "cell_type": "markdown",
      "metadata": {
        "id": "WvWS_sbibwvd"
      },
      "source": [
        "#### Assignment 02\r\n",
        " **Author**: Sooyeon Choi **Date**: Feb 7, 2021\r\n",
        "\r\n",
        "\r\n",
        " **Requirements**\r\n",
        "1. Prompts a user to enter 10 integers.\r\n",
        "2. If the user enters anything other than integers, remind her that only integers are allowed and let her retry.\r\n",
        "  * Note: You need to detect if use makes a mistake and let the user retry without exiting the program. The previously entered valid inputs should be kept and not lost.\r\n",
        "\r\n",
        "3. Don't allow the user to enter more than 10 or less than 10 integers.\r\n",
        "\r\n",
        "4. Display the 10 integers back to the user at the end.\r\n",
        "\r\n",
        "5. Calculate the following statistics from the 10 integers entered and display the results back to the user:\r\n",
        "Minimum\r\n",
        "  * Minimum   \r\n",
        "  * Maximum\r\n",
        "  *  Range\r\n",
        "  * Mean\r\n",
        "  * Variance\r\n",
        "  * Standard Deviation  \r\n",
        "\r\n",
        "\r\n"
      ]
    },
    {
      "cell_type": "code",
      "metadata": {
        "colab": {
          "base_uri": "https://localhost:8080/"
        },
        "id": "m4Gf_4kZZYFj",
        "outputId": "9893e25f-d3eb-4fbe-c099-86093f842c6d"
      },
      "source": [
        "#Prompting user to create a list of 10 integers\r\n",
        "\r\n",
        "user_inputs = [] #This is the list of the input from the user\r\n",
        "while len(user_inputs) < 10: \r\n",
        "\r\n",
        "  try: \r\n",
        "    user_input = int(input(\"Please enter an integer (10 times): \"))\r\n",
        "    print(f\"You have entered: \", user_input)\r\n",
        "    user_inputs.append(user_input)\r\n",
        "  except:\r\n",
        "    print(\"Enter only integer\") \r\n",
        "\r\n",
        "#Finding the range\r\n",
        "  maxrange = max(user_inputs)\r\n",
        "  minrange = min(user_inputs)\r\n",
        "  realrange = maxrange - minrange\r\n",
        "\r\n",
        "#Finding Mean\r\n",
        "realaverage = sum(user_inputs) / 10\r\n",
        "\r\n",
        "#Finding Variance\r\n",
        "realvariance = sum((i- realaverage)**2 for i in user_inputs) / 10\r\n",
        "\r\n",
        "#Finding Standard Deviation\r\n",
        "realsd =  realvariance**0.5\r\n",
        "\r\n",
        "#Print Results\r\n",
        "print(\"You list of numbers are:\", user_inputs)\r\n",
        "print(\"Your Maximum number is:\", max(user_inputs))\r\n",
        "print(\"Your Minimum number is:\", min(user_inputs))\r\n",
        "print(\"Your range is: \", realrange)\r\n",
        "print(\"Your mean is: \", realaverage)\r\n",
        "print(\"Your variance is: \", realvariance)\r\n",
        "print(\"Your standard deviation is: \", realsd)\r\n",
        "\r\n"
      ],
      "execution_count": 11,
      "outputs": [
        {
          "output_type": "stream",
          "text": [
            "Please enter an integer (10 times): 11\n",
            "You have entered:  11\n",
            "Please enter an integer (10 times): 12\n",
            "You have entered:  12\n",
            "Please enter an integer (10 times): 13\n",
            "You have entered:  13\n",
            "Please enter an integer (10 times): 13.5\n",
            "Enter only integer\n",
            "Please enter an integer (10 times): 14\n",
            "You have entered:  14\n",
            "Please enter an integer (10 times): 15\n",
            "You have entered:  15\n",
            "Please enter an integer (10 times): 16\n",
            "You have entered:  16\n",
            "Please enter an integer (10 times): 17\n",
            "You have entered:  17\n",
            "Please enter an integer (10 times): abc\n",
            "Enter only integer\n",
            "Please enter an integer (10 times): 18\n",
            "You have entered:  18\n",
            "Please enter an integer (10 times): 19\n",
            "You have entered:  19\n",
            "Please enter an integer (10 times): 20\n",
            "You have entered:  20\n",
            "You list of numbers are: [11, 12, 13, 14, 15, 16, 17, 18, 19, 20]\n",
            "Your Maximum number is: 20\n",
            "Your Minimum number is: 11\n",
            "Your range is:  9\n",
            "Your mean is:  15.5\n",
            "Your variance is:  8.25\n",
            "Your standard deviation is:  2.8722813232690143\n"
          ],
          "name": "stdout"
        }
      ]
    }
  ]
}