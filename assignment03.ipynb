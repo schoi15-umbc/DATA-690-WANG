{
  "nbformat": 4,
  "nbformat_minor": 0,
  "metadata": {
    "colab": {
      "name": "assignment03.ipynb",
      "provenance": []
    },
    "kernelspec": {
      "name": "python3",
      "display_name": "Python 3"
    }
  },
  "cells": [
    {
      "cell_type": "markdown",
      "metadata": {
        "id": "P7SuhlXfmxhl"
      },
      "source": [
        "**Assignment 03**\r\n",
        "\r\n",
        "**Author**: Sooyeon Choi **Date**: Feb 14, 2021"
      ]
    },
    {
      "cell_type": "markdown",
      "metadata": {
        "id": "fbNjwWgtnwR4"
      },
      "source": [
        "1. Print them in a 10 by 10 matrix neatly arranged like the following (one space between each number):"
      ]
    },
    {
      "cell_type": "code",
      "metadata": {
        "id": "QgnwFysNlIZs"
      },
      "source": [
        "import random"
      ],
      "execution_count": 1,
      "outputs": []
    },
    {
      "cell_type": "code",
      "metadata": {
        "colab": {
          "base_uri": "https://localhost:8080/"
        },
        "id": "wi_a0h_6wVDH",
        "outputId": "0c1d5343-4764-4b31-a218-45ecf9ebb492"
      },
      "source": [
        "def matrix10(mrow=10):\r\n",
        "    matrix = []\r\n",
        "    for rows in range(mrow):\r\n",
        "        rows = []\r\n",
        "        for numbers in range(mrow):\r\n",
        "            numbers = random.randint(0, 9)\r\n",
        "            print(numbers, end = \" \") \r\n",
        "            rows.append(numbers)\r\n",
        "\r\n",
        "        print(\"\")\r\n",
        "        matrix.append(rows)\r\n",
        "matrix10(10)"
      ],
      "execution_count": 10,
      "outputs": [
        {
          "output_type": "stream",
          "text": [
            "1 7 7 0 6 5 7 5 1 3 \n",
            "3 5 7 2 2 6 8 3 0 7 \n",
            "9 7 8 4 4 0 2 1 5 1 \n",
            "2 5 5 2 6 8 8 6 6 4 \n",
            "4 3 0 0 7 2 1 6 1 9 \n",
            "6 1 1 0 8 8 7 5 0 2 \n",
            "8 9 4 5 5 0 4 0 8 0 \n",
            "3 8 9 6 8 6 7 3 5 4 \n",
            "1 4 2 1 2 7 4 2 9 7 \n",
            "2 7 1 4 4 3 6 2 4 2 \n"
          ],
          "name": "stdout"
        }
      ]
    },
    {
      "cell_type": "markdown",
      "metadata": {
        "id": "2pbnlmgBn-Dt"
      },
      "source": [
        "2. If the random number is an odd number, print \"@\" instead. "
      ]
    },
    {
      "cell_type": "code",
      "metadata": {
        "colab": {
          "base_uri": "https://localhost:8080/"
        },
        "id": "Br1qkGZPJa8m",
        "outputId": "11d69216-ffac-403d-b280-2a37c076e67e"
      },
      "source": [
        " def matrix10(mrow=10):\r\n",
        "    matrix = []\r\n",
        "    for rows in range(mrow):\r\n",
        "        rows = []\r\n",
        "        for numbers in range(mrow):\r\n",
        "            numbers = random.randint(0, 9)\r\n",
        "            if (numbers % 2 == 1):\r\n",
        "                  numbers = \"@\"\r\n",
        "\r\n",
        "            print(numbers, end = \" \") \r\n",
        "            rows.append(numbers)\r\n",
        "\r\n",
        "        print(\"\")\r\n",
        "        matrix.append(rows)\r\n",
        "matrix10(10)\r\n"
      ],
      "execution_count": 9,
      "outputs": [
        {
          "output_type": "stream",
          "text": [
            "6 2 @ 6 2 4 @ 0 2 8 \n",
            "4 0 @ @ 2 6 4 6 @ 8 \n",
            "6 6 @ 2 2 4 4 8 @ 6 \n",
            "@ 4 2 0 4 8 0 @ @ @ \n",
            "2 @ @ 8 @ 6 @ 4 @ @ \n",
            "@ 0 @ @ 4 @ @ @ @ 4 \n",
            "4 @ @ 0 @ 4 4 @ 4 @ \n",
            "@ @ 0 4 @ @ @ @ 6 @ \n",
            "8 6 @ 6 4 @ 4 @ 6 0 \n",
            "@ 4 8 @ 0 0 8 @ 0 @ \n"
          ],
          "name": "stdout"
        }
      ]
    },
    {
      "cell_type": "markdown",
      "metadata": {
        "id": "3nq1RRCLn-6l"
      },
      "source": [
        "3. Calculate and Print the total of each row like the following (use \"*\" to separate the total from the numbers):"
      ]
    },
    {
      "cell_type": "code",
      "metadata": {
        "colab": {
          "base_uri": "https://localhost:8080/"
        },
        "id": "itNl5Bd1MBuO",
        "outputId": "edd2e642-f4c0-4034-948e-a068dcce22f3"
      },
      "source": [
        "def matrix10(mrow=10):\r\n",
        "    matrix = []\r\n",
        "    sum=0\r\n",
        "    for rows in range(mrow):\r\n",
        "        rows = []\r\n",
        "        for numbers in range(mrow):\r\n",
        "            numbers = random.randint(0, 9)\r\n",
        "            sum = sum + numbers\r\n",
        "            print(numbers, end = \" \") \r\n",
        "        rows.append(f\"* {sum}\")\r\n",
        "        print(f\"* {sum}\")     \r\n",
        "matrix10(10)"
      ],
      "execution_count": 8,
      "outputs": [
        {
          "output_type": "stream",
          "text": [
            "1 5 3 7 4 8 2 8 9 6 * 53\n",
            "7 4 8 0 1 7 1 1 1 9 * 92\n",
            "1 9 5 0 2 8 7 5 3 6 * 138\n",
            "3 6 9 3 7 2 8 9 2 7 * 194\n",
            "2 0 4 8 0 5 3 6 4 0 * 226\n",
            "4 0 7 2 4 3 5 6 6 4 * 267\n",
            "7 7 0 1 0 7 9 1 1 5 * 305\n",
            "9 9 3 3 5 3 9 7 7 1 * 361\n",
            "9 2 3 9 0 4 2 3 9 2 * 404\n",
            "2 3 8 0 3 7 2 8 7 3 * 447\n"
          ],
          "name": "stdout"
        }
      ]
    }
  ]
}