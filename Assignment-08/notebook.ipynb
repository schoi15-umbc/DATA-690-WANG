{
  "cells": [
    {
      "cell_type": "code",
      "metadata": {
        "tags": [],
        "cell_id": "00000-c427a5d2-e46f-4459-bbfa-e6c861595be3",
        "deepnote_to_be_reexecuted": false,
        "source_hash": "1e9ee991",
        "execution_millis": 655,
        "execution_start": 1618805244240,
        "deepnote_cell_type": "code"
      },
      "source": "# 1 - Import necessary libraries\n\nimport os\nimport pandas as pd\nimport numpy as np\nimport random\nimport matplotlib.pyplot as plt",
      "execution_count": 43,
      "outputs": []
    },
    {
      "cell_type": "code",
      "metadata": {
        "tags": [],
        "cell_id": "00001-82416c1f-987e-40d5-bfac-0f57af90b432",
        "deepnote_to_be_reexecuted": false,
        "source_hash": "bfd91300",
        "execution_millis": 7,
        "execution_start": 1618803894049,
        "deepnote_cell_type": "code"
      },
      "source": "current_folder = os.getcwd()\nprint(current_folder)",
      "execution_count": 2,
      "outputs": [
        {
          "name": "stdout",
          "text": "/work\n",
          "output_type": "stream"
        }
      ]
    },
    {
      "cell_type": "code",
      "metadata": {
        "tags": [],
        "cell_id": "00002-fc70587d-8f80-4ea2-900c-18098bf32bb4",
        "deepnote_to_be_reexecuted": false,
        "source_hash": "3fa21c52",
        "execution_millis": 6,
        "execution_start": 1618803894050,
        "deepnote_cell_type": "code"
      },
      "source": "# 2 - Retrieve the names of the 22 files and assign them to a List variable\n# You would need to filter out other files\n# Display the names of these 22 files\n\nfile_list = os.listdir(\"./data/CollegeScorecard_Raw_Data_01192021 (1)/Raw Data Files\")\nprint(file_list)",
      "execution_count": 3,
      "outputs": [
        {
          "name": "stdout",
          "text": "['data.yaml', 'MERGED2006_07_PP.csv', 'MERGED2018_19_PP.csv', 'Most-Recent-Cohorts-All-Data-Elements.csv', 'MERGED2004_05_PP.csv', 'MERGED2011_12_PP.csv', 'MERGED2007_08_PP.csv', 'MERGED2013_14_PP.csv', 'MERGED1996_97_PP.csv', 'MERGED2000_01_PP.csv', 'Most-Recent-Cohorts-Field-of-Study.csv', 'MERGED2015_16_PP.csv', 'MERGED1997_98_PP.csv', 'MERGED2002_03_PP.csv', 'MERGED2016_17_PP.csv', 'MERGED2008_09_PP.csv', 'Crosswalks.zip', 'MERGED2014_15_PP.csv', 'MERGED2001_02_PP.csv', 'MERGED2017_18_PP.csv', 'MERGED2009_10_PP.csv', 'FieldOfStudyData1516_1617_PP.csv', 'MERGED2003_04_PP.csv', 'MERGED2010_11_PP.csv', 'MERGED1998_99_PP.csv', 'MERGED2005_06_PP.csv', 'MERGED1999_00_PP.csv', 'FieldOfStudyData1617_1718_PP.csv', 'FieldOfStudyData1415_1516_PP.csv', 'MERGED2012_13_PP.csv']\n",
          "output_type": "stream"
        }
      ]
    },
    {
      "cell_type": "code",
      "metadata": {
        "tags": [],
        "cell_id": "00003-7f6b7094-5c38-49a0-a3b0-7f16b6409dbb",
        "deepnote_to_be_reexecuted": false,
        "source_hash": "77f937da",
        "execution_millis": 13,
        "execution_start": 1618803894060,
        "deepnote_cell_type": "code"
      },
      "source": "\nfile_list",
      "execution_count": 4,
      "outputs": [
        {
          "output_type": "execute_result",
          "execution_count": 4,
          "data": {
            "text/plain": "['data.yaml',\n 'MERGED2006_07_PP.csv',\n 'MERGED2018_19_PP.csv',\n 'Most-Recent-Cohorts-All-Data-Elements.csv',\n 'MERGED2004_05_PP.csv',\n 'MERGED2011_12_PP.csv',\n 'MERGED2007_08_PP.csv',\n 'MERGED2013_14_PP.csv',\n 'MERGED1996_97_PP.csv',\n 'MERGED2000_01_PP.csv',\n 'Most-Recent-Cohorts-Field-of-Study.csv',\n 'MERGED2015_16_PP.csv',\n 'MERGED1997_98_PP.csv',\n 'MERGED2002_03_PP.csv',\n 'MERGED2016_17_PP.csv',\n 'MERGED2008_09_PP.csv',\n 'Crosswalks.zip',\n 'MERGED2014_15_PP.csv',\n 'MERGED2001_02_PP.csv',\n 'MERGED2017_18_PP.csv',\n 'MERGED2009_10_PP.csv',\n 'FieldOfStudyData1516_1617_PP.csv',\n 'MERGED2003_04_PP.csv',\n 'MERGED2010_11_PP.csv',\n 'MERGED1998_99_PP.csv',\n 'MERGED2005_06_PP.csv',\n 'MERGED1999_00_PP.csv',\n 'FieldOfStudyData1617_1718_PP.csv',\n 'FieldOfStudyData1415_1516_PP.csv',\n 'MERGED2012_13_PP.csv']"
          },
          "metadata": {}
        }
      ]
    },
    {
      "cell_type": "code",
      "source": "# 3 - Write code to randomly select one file name out of the 22 files names. \n# Hint: generate a random integer between 0 and 21 first\n# Display the file name\n\nrand = random.randint(0,21)\nrandomfile = file_list[rand]\nprint(randomfile)",
      "metadata": {
        "tags": [],
        "cell_id": "00004-7b4a2c16-414b-40d3-b5ef-6d9a2674c52b",
        "deepnote_to_be_reexecuted": false,
        "source_hash": "cb41c086",
        "execution_millis": 7,
        "execution_start": 1618803894066,
        "deepnote_cell_type": "code"
      },
      "outputs": [
        {
          "name": "stdout",
          "text": "Most-Recent-Cohorts-Field-of-Study.csv\n",
          "output_type": "stream"
        }
      ],
      "execution_count": 5
    },
    {
      "cell_type": "code",
      "metadata": {
        "tags": [],
        "cell_id": "00004-ff1dbb31-79ea-41fe-ae3a-5340876690f5",
        "deepnote_to_be_reexecuted": false,
        "source_hash": "4968d3",
        "execution_millis": 770,
        "execution_start": 1618803894071,
        "deepnote_cell_type": "code"
      },
      "source": "# 4 - Only read the two columns: college name (INSTNM) and in state tution (\"TUITIONFEE_IN\")\n# from this file into a data frame aand display use info() function to display a summary information\n\ndf = pd.read_csv(\"./data/CollegeScorecard_Raw_Data_01192021 (1)/Raw Data Files/MERGED2009_10_PP.csv\",usecols=[\"INSTNM\",\"TUITIONFEE_IN\"])\ndf.head()",
      "execution_count": 6,
      "outputs": [
        {
          "output_type": "execute_result",
          "execution_count": 6,
          "data": {
            "application/vnd.deepnote.dataframe.v2+json": {
              "row_count": 5,
              "column_count": 2,
              "columns": [
                {
                  "name": "INSTNM",
                  "dtype": "object",
                  "stats": {
                    "unique_count": 5,
                    "nan_count": 0,
                    "categories": [
                      {
                        "name": "Community College of the Air Force",
                        "count": 1
                      },
                      {
                        "name": "Alabama A & M University",
                        "count": 1
                      },
                      {
                        "name": "3 others",
                        "count": 3
                      }
                    ]
                  }
                },
                {
                  "name": "TUITIONFEE_IN",
                  "dtype": "float64",
                  "stats": {
                    "unique_count": 4,
                    "nan_count": 1,
                    "min": "4692.0",
                    "max": "8000.0",
                    "histogram": [
                      {
                        "bin_start": 4692,
                        "bin_end": 5022.8,
                        "count": 1
                      },
                      {
                        "bin_start": 5022.8,
                        "bin_end": 5353.6,
                        "count": 1
                      },
                      {
                        "bin_start": 5353.6,
                        "bin_end": 5684.4,
                        "count": 0
                      },
                      {
                        "bin_start": 5684.4,
                        "bin_end": 6015.2,
                        "count": 0
                      },
                      {
                        "bin_start": 6015.2,
                        "bin_end": 6346,
                        "count": 0
                      },
                      {
                        "bin_start": 6346,
                        "bin_end": 6676.8,
                        "count": 1
                      },
                      {
                        "bin_start": 6676.8,
                        "bin_end": 7007.6,
                        "count": 0
                      },
                      {
                        "bin_start": 7007.6,
                        "bin_end": 7338.4,
                        "count": 0
                      },
                      {
                        "bin_start": 7338.4,
                        "bin_end": 7669.200000000001,
                        "count": 0
                      },
                      {
                        "bin_start": 7669.200000000001,
                        "bin_end": 8000,
                        "count": 1
                      }
                    ]
                  }
                },
                {
                  "name": "_deepnote_index_column",
                  "dtype": "int64"
                }
              ],
              "rows_top": [
                {
                  "INSTNM": "Community College of the Air Force",
                  "TUITIONFEE_IN": "nan",
                  "_deepnote_index_column": 0
                },
                {
                  "INSTNM": "Alabama A & M University",
                  "TUITIONFEE_IN": "4692.0",
                  "_deepnote_index_column": 1
                },
                {
                  "INSTNM": "University of Alabama at Birmingham",
                  "TUITIONFEE_IN": "5096.0",
                  "_deepnote_index_column": 2
                },
                {
                  "INSTNM": "Amridge University",
                  "TUITIONFEE_IN": "8000.0",
                  "_deepnote_index_column": 3
                },
                {
                  "INSTNM": "University of Alabama in Huntsville",
                  "TUITIONFEE_IN": "6510.0",
                  "_deepnote_index_column": 4
                }
              ],
              "rows_bottom": null
            },
            "text/plain": "                                INSTNM  TUITIONFEE_IN\n0   Community College of the Air Force            NaN\n1             Alabama A & M University         4692.0\n2  University of Alabama at Birmingham         5096.0\n3                   Amridge University         8000.0\n4  University of Alabama in Huntsville         6510.0",
            "text/html": "<div>\n<style scoped>\n    .dataframe tbody tr th:only-of-type {\n        vertical-align: middle;\n    }\n\n    .dataframe tbody tr th {\n        vertical-align: top;\n    }\n\n    .dataframe thead th {\n        text-align: right;\n    }\n</style>\n<table border=\"1\" class=\"dataframe\">\n  <thead>\n    <tr style=\"text-align: right;\">\n      <th></th>\n      <th>INSTNM</th>\n      <th>TUITIONFEE_IN</th>\n    </tr>\n  </thead>\n  <tbody>\n    <tr>\n      <th>0</th>\n      <td>Community College of the Air Force</td>\n      <td>NaN</td>\n    </tr>\n    <tr>\n      <th>1</th>\n      <td>Alabama A &amp; M University</td>\n      <td>4692.0</td>\n    </tr>\n    <tr>\n      <th>2</th>\n      <td>University of Alabama at Birmingham</td>\n      <td>5096.0</td>\n    </tr>\n    <tr>\n      <th>3</th>\n      <td>Amridge University</td>\n      <td>8000.0</td>\n    </tr>\n    <tr>\n      <th>4</th>\n      <td>University of Alabama in Huntsville</td>\n      <td>6510.0</td>\n    </tr>\n  </tbody>\n</table>\n</div>"
          },
          "metadata": {}
        }
      ]
    },
    {
      "cell_type": "code",
      "metadata": {
        "tags": [],
        "cell_id": "00005-7ae5227f-0503-45b6-be79-678e55bdd869",
        "deepnote_to_be_reexecuted": false,
        "source_hash": "de1e323c",
        "execution_millis": 7,
        "execution_start": 1618803894834,
        "deepnote_cell_type": "code"
      },
      "source": "df.info()",
      "execution_count": 7,
      "outputs": [
        {
          "name": "stdout",
          "text": "<class 'pandas.core.frame.DataFrame'>\nRangeIndex: 7217 entries, 0 to 7216\nData columns (total 2 columns):\n #   Column         Non-Null Count  Dtype  \n---  ------         --------------  -----  \n 0   INSTNM         7217 non-null   object \n 1   TUITIONFEE_IN  4289 non-null   float64\ndtypes: float64(1), object(1)\nmemory usage: 112.9+ KB\n",
          "output_type": "stream"
        }
      ]
    },
    {
      "cell_type": "code",
      "source": "# 5 - Find out how many observations have missing value.\n\ndf.isnull().sum()",
      "metadata": {
        "tags": [],
        "cell_id": "00006-0013d25c-da3e-4ea0-b926-35a084ad9e68",
        "deepnote_to_be_reexecuted": false,
        "source_hash": "857a3529",
        "execution_millis": 8,
        "execution_start": 1618803894835,
        "deepnote_cell_type": "code"
      },
      "outputs": [
        {
          "output_type": "execute_result",
          "execution_count": 8,
          "data": {
            "text/plain": "INSTNM              0\nTUITIONFEE_IN    2928\ndtype: int64"
          },
          "metadata": {}
        }
      ],
      "execution_count": 8
    },
    {
      "cell_type": "code",
      "source": "# 6 - Drop those observations with missing value\n# Disaply the number of observations afterward\nnewdf = df.dropna() \nnewdf.shape",
      "metadata": {
        "tags": [],
        "cell_id": "00008-33f48813-572b-4e12-9fc5-d21f2fb8a881",
        "deepnote_to_be_reexecuted": false,
        "source_hash": "d11f55c7",
        "execution_millis": 14,
        "execution_start": 1618803894837,
        "deepnote_cell_type": "code"
      },
      "outputs": [
        {
          "output_type": "execute_result",
          "execution_count": 9,
          "data": {
            "text/plain": "(4289, 2)"
          },
          "metadata": {}
        }
      ],
      "execution_count": 9
    },
    {
      "cell_type": "code",
      "source": "# 7 - Find out how many observations have 0 tution.\n\n(newdf==0).any()",
      "metadata": {
        "tags": [],
        "cell_id": "00009-6c71b800-2120-4dd1-be13-f02e7fe6460f",
        "deepnote_to_be_reexecuted": false,
        "source_hash": "512f75b8",
        "execution_millis": 39,
        "execution_start": 1618803894852,
        "deepnote_cell_type": "code"
      },
      "outputs": [
        {
          "output_type": "execute_result",
          "execution_count": 10,
          "data": {
            "text/plain": "INSTNM           False\nTUITIONFEE_IN     True\ndtype: bool"
          },
          "metadata": {}
        }
      ],
      "execution_count": 10
    },
    {
      "cell_type": "code",
      "source": "# 8 - Drop those observations with 0 tuition\n# Disaply the number of observations afterward\nhowmany = (newdf['TUITIONFEE_IN']==0).value_counts()\nhowmany",
      "metadata": {
        "tags": [],
        "cell_id": "00010-474a1f1c-a855-4a84-af7a-5faaf1d76d2b",
        "deepnote_to_be_reexecuted": false,
        "source_hash": "fd0408d1",
        "execution_millis": 28,
        "execution_start": 1618803894864,
        "deepnote_cell_type": "code"
      },
      "outputs": [
        {
          "output_type": "execute_result",
          "execution_count": 11,
          "data": {
            "text/plain": "False    4284\nTrue        5\nName: TUITIONFEE_IN, dtype: int64"
          },
          "metadata": {}
        }
      ],
      "execution_count": 11
    },
    {
      "cell_type": "code",
      "source": "drop_df = newdf[newdf[\"TUITIONFEE_IN\"] !=0]\ndrop_df.shape",
      "metadata": {
        "tags": [],
        "cell_id": "00010-809ef4b2-a62c-4def-8f9d-183c4c592436",
        "deepnote_to_be_reexecuted": false,
        "source_hash": "5d63d250",
        "execution_millis": 24,
        "execution_start": 1618803894868,
        "deepnote_cell_type": "code"
      },
      "outputs": [
        {
          "output_type": "execute_result",
          "execution_count": 12,
          "data": {
            "text/plain": "(4284, 2)"
          },
          "metadata": {}
        }
      ],
      "execution_count": 12
    },
    {
      "cell_type": "code",
      "source": "# 9 - Calculate and display the mean (average) of the tuitions of all the remaining observations\ntuition_mean = drop_df['TUITIONFEE_IN'].mean()\n\nprint(tuition_mean)",
      "metadata": {
        "tags": [],
        "cell_id": "00011-56dafb70-7338-47a1-af93-5abf951e1d9c",
        "deepnote_to_be_reexecuted": false,
        "source_hash": "1e86419",
        "execution_millis": 11,
        "execution_start": 1618803894881,
        "deepnote_cell_type": "code"
      },
      "outputs": [
        {
          "name": "stdout",
          "text": "12067.689775910365\n",
          "output_type": "stream"
        }
      ],
      "execution_count": 13
    },
    {
      "cell_type": "code",
      "source": "# 10 - Randomly select just 1 observation from the data frame.\n# Display the tuition of that observation.\n\nrandom1 = drop_df.sample()\nrandom1",
      "metadata": {
        "tags": [],
        "cell_id": "00013-0a9d3f62-d402-4e7e-bde1-8529e94cf108",
        "deepnote_to_be_reexecuted": false,
        "source_hash": "8a69f8f2",
        "execution_millis": 12,
        "execution_start": 1618803894887,
        "deepnote_cell_type": "code"
      },
      "outputs": [
        {
          "output_type": "execute_result",
          "execution_count": 14,
          "data": {
            "application/vnd.deepnote.dataframe.v2+json": {
              "row_count": 1,
              "column_count": 2,
              "columns": [
                {
                  "name": "INSTNM",
                  "dtype": "object",
                  "stats": {
                    "unique_count": 1,
                    "nan_count": 0,
                    "categories": [
                      {
                        "name": "Ridgewater College",
                        "count": 1
                      }
                    ]
                  }
                },
                {
                  "name": "TUITIONFEE_IN",
                  "dtype": "float64",
                  "stats": {
                    "unique_count": 1,
                    "nan_count": 0,
                    "min": "5045.0",
                    "max": "5045.0",
                    "histogram": [
                      {
                        "bin_start": 5044.5,
                        "bin_end": 5044.6,
                        "count": 0
                      },
                      {
                        "bin_start": 5044.6,
                        "bin_end": 5044.7,
                        "count": 0
                      },
                      {
                        "bin_start": 5044.7,
                        "bin_end": 5044.8,
                        "count": 0
                      },
                      {
                        "bin_start": 5044.8,
                        "bin_end": 5044.9,
                        "count": 0
                      },
                      {
                        "bin_start": 5044.9,
                        "bin_end": 5045,
                        "count": 0
                      },
                      {
                        "bin_start": 5045,
                        "bin_end": 5045.1,
                        "count": 1
                      },
                      {
                        "bin_start": 5045.1,
                        "bin_end": 5045.2,
                        "count": 0
                      },
                      {
                        "bin_start": 5045.2,
                        "bin_end": 5045.3,
                        "count": 0
                      },
                      {
                        "bin_start": 5045.3,
                        "bin_end": 5045.4,
                        "count": 0
                      },
                      {
                        "bin_start": 5045.4,
                        "bin_end": 5045.5,
                        "count": 0
                      }
                    ]
                  }
                },
                {
                  "name": "_deepnote_index_column",
                  "dtype": "int64"
                }
              ],
              "rows_top": [
                {
                  "INSTNM": "Ridgewater College",
                  "TUITIONFEE_IN": 5045,
                  "_deepnote_index_column": 2128
                }
              ],
              "rows_bottom": null
            },
            "text/plain": "                  INSTNM  TUITIONFEE_IN\n2128  Ridgewater College         5045.0",
            "text/html": "<div>\n<style scoped>\n    .dataframe tbody tr th:only-of-type {\n        vertical-align: middle;\n    }\n\n    .dataframe tbody tr th {\n        vertical-align: top;\n    }\n\n    .dataframe thead th {\n        text-align: right;\n    }\n</style>\n<table border=\"1\" class=\"dataframe\">\n  <thead>\n    <tr style=\"text-align: right;\">\n      <th></th>\n      <th>INSTNM</th>\n      <th>TUITIONFEE_IN</th>\n    </tr>\n  </thead>\n  <tbody>\n    <tr>\n      <th>2128</th>\n      <td>Ridgewater College</td>\n      <td>5045.0</td>\n    </tr>\n  </tbody>\n</table>\n</div>"
          },
          "metadata": {}
        }
      ],
      "execution_count": 14
    },
    {
      "cell_type": "code",
      "source": "# 11 - Calculate the different between the tuition of this observation and \n# the mean tuition off all observations calculated earlier.\n# Display the difference\n\ndifference = float(random1['TUITIONFEE_IN']) - tuition_mean\ndifference",
      "metadata": {
        "tags": [],
        "cell_id": "00014-b02d7588-7f2e-4960-a764-3f98be3e00d0",
        "deepnote_to_be_reexecuted": false,
        "source_hash": "ff219cd9",
        "execution_millis": 8,
        "execution_start": 1618803894896,
        "deepnote_cell_type": "code"
      },
      "outputs": [
        {
          "output_type": "execute_result",
          "execution_count": 15,
          "data": {
            "text/plain": "-7022.689775910365"
          },
          "metadata": {}
        }
      ],
      "execution_count": 15
    },
    {
      "cell_type": "code",
      "source": "# 12 - Repeat 10 to 11 several times get the feel of the size of the difference in means\n\nrandom2 = drop_df.sample()\ndifference2 = float(random2['TUITIONFEE_IN']) - tuition_mean\ndifference2",
      "metadata": {
        "tags": [],
        "cell_id": "00015-6a9de1e7-fbdc-4fc7-b359-64bc5cecaa79",
        "deepnote_to_be_reexecuted": false,
        "source_hash": "42697db1",
        "execution_millis": 7,
        "execution_start": 1618803894918,
        "deepnote_cell_type": "code"
      },
      "outputs": [
        {
          "output_type": "execute_result",
          "execution_count": 16,
          "data": {
            "text/plain": "-10837.689775910365"
          },
          "metadata": {}
        }
      ],
      "execution_count": 16
    },
    {
      "cell_type": "code",
      "source": "random3 = drop_df.sample()\ndifference3 = float(random3['TUITIONFEE_IN']) - tuition_mean\ndifference3",
      "metadata": {
        "tags": [],
        "cell_id": "00016-48c770f8-13b3-4858-a397-061b087afc82",
        "deepnote_to_be_reexecuted": false,
        "source_hash": "fcc448ea",
        "execution_millis": 6,
        "execution_start": 1618803894919,
        "deepnote_cell_type": "code"
      },
      "outputs": [
        {
          "output_type": "execute_result",
          "execution_count": 17,
          "data": {
            "text/plain": "5080.310224089635"
          },
          "metadata": {}
        }
      ],
      "execution_count": 17
    },
    {
      "cell_type": "code",
      "source": "random4 = drop_df.sample()\ndifference4 = float(random4['TUITIONFEE_IN']) - tuition_mean\ndifference4",
      "metadata": {
        "tags": [],
        "cell_id": "00017-1b175d66-b58b-4d36-8666-860b086ba6de",
        "deepnote_to_be_reexecuted": false,
        "source_hash": "886e678c",
        "execution_millis": 6,
        "execution_start": 1618803894920,
        "deepnote_cell_type": "code"
      },
      "outputs": [
        {
          "output_type": "execute_result",
          "execution_count": 18,
          "data": {
            "text/plain": "-9669.689775910365"
          },
          "metadata": {}
        }
      ],
      "execution_count": 18
    },
    {
      "cell_type": "code",
      "source": "# 13 - Randomly select 20 observations, display the tuition of these observation.\nrandom20 = drop_df.sample(20)\nprint(random20)",
      "metadata": {
        "tags": [],
        "cell_id": "00016-cfb6d529-ced4-47a3-bbc8-971ac7cfa046",
        "deepnote_to_be_reexecuted": false,
        "source_hash": "82c401dc",
        "execution_millis": 8,
        "execution_start": 1618803894923,
        "deepnote_cell_type": "code"
      },
      "outputs": [
        {
          "name": "stdout",
          "text": "                                                 INSTNM  TUITIONFEE_IN\n2889  Caldwell Community College and Technical Insti...         1656.0\n2499                              Seton Hall University        30470.0\n1552      West Kentucky Community and Technical College         3000.0\n12               Chattahoochee Valley Community College         2940.0\n2453                          Georgian Court University        24490.0\n4959                         Valley College-Martinsburg         8600.0\n2373                                  Las Vegas College        20768.0\n7157      Pratt Manhattan-A Division of Pratt Institute        34880.0\n7086                Strayer University-Salt Lake Campus        13065.0\n3697                                   Allen University        10884.0\n1634  Northeast Louisiana Technical College-Northeas...         1034.0\n3679                                  Bryant University        32106.0\n1677                            College of the Atlantic        33060.0\n1380                     Indian Hills Community College         2976.0\n2778                    St. Joseph's College of Nursing        13480.0\n2903                  Davidson County Community College         1310.0\n994                         University of North Georgia         4260.0\n1946               Detroit Business Institute-Downriver         8840.0\n2535                                   San Juan College          768.0\n7054               Strayer University-Tampa East Campus        13065.0\n",
          "output_type": "stream"
        }
      ],
      "execution_count": 19
    },
    {
      "cell_type": "code",
      "source": "# 14 - Calculate and displat the mean tuition of these 20 observations\nTuition_mean2 = random20['TUITIONFEE_IN'].mean()\nprint(Tuition_mean2)",
      "metadata": {
        "tags": [],
        "cell_id": "00017-e601d5ec-f7fe-4a76-9cb8-f5e282feb50b",
        "deepnote_to_be_reexecuted": false,
        "source_hash": "1d6f76f8",
        "execution_millis": 10,
        "execution_start": 1618803894944,
        "deepnote_cell_type": "code"
      },
      "outputs": [
        {
          "name": "stdout",
          "text": "13082.6\n",
          "output_type": "stream"
        }
      ],
      "execution_count": 20
    },
    {
      "cell_type": "code",
      "source": "# 15 - Calculate  the different between the average tuition of these 20 observations \n# and the mean tuition off all observations calculated earlier.\n# Display the difference\nrandom20_1 = abs(tuition_mean-Tuition_mean2)\nprint(random20_1)",
      "metadata": {
        "tags": [],
        "cell_id": "00018-e3aae9e3-0820-4dcd-bae2-f0989a45e8d0",
        "deepnote_to_be_reexecuted": false,
        "source_hash": "178ace54",
        "execution_millis": 15,
        "execution_start": 1618803957144,
        "deepnote_cell_type": "code"
      },
      "outputs": [
        {
          "name": "stdout",
          "text": "1014.9102240896354\n",
          "output_type": "stream"
        }
      ],
      "execution_count": 30
    },
    {
      "cell_type": "code",
      "source": "# 16 - Repeat 13 to 15 several times and get the feel of the size of the difference in means \n# Compare these differences with the differences calculated earlier with just 1 observation\n# Describe your hunch/conclusion\n\nrandom20_2 = drop_df.sample(20)\nTuition_mean3 = random20_2['TUITIONFEE_IN'].mean()\nrandom20_22 = abs(tuition_mean-Tuition_mean3)\nprint(random20_22)\n",
      "metadata": {
        "tags": [],
        "cell_id": "00019-26a722fd-31be-4273-9e07-06e5ab9440fe",
        "deepnote_to_be_reexecuted": false,
        "source_hash": "2ee2211e",
        "execution_millis": 8,
        "execution_start": 1618804028966,
        "deepnote_cell_type": "code"
      },
      "outputs": [
        {
          "name": "stdout",
          "text": "230.41022408963545\n",
          "output_type": "stream"
        }
      ],
      "execution_count": 31
    },
    {
      "cell_type": "code",
      "source": "random20_3 = drop_df.sample(20)\nTuition_mean4 = random20_3['TUITIONFEE_IN'].mean()\nrandom20_33 = abs(tuition_mean-Tuition_mean4)\nprint(random20_33)",
      "metadata": {
        "tags": [],
        "cell_id": "00022-fc3d840c-471d-4c85-a1b4-39c704e5c36e",
        "deepnote_to_be_reexecuted": false,
        "source_hash": "f5ae1dc3",
        "execution_start": 1618804058213,
        "execution_millis": 4,
        "deepnote_cell_type": "code"
      },
      "outputs": [
        {
          "name": "stdout",
          "text": "1343.1102240896344\n",
          "output_type": "stream"
        }
      ],
      "execution_count": 32
    },
    {
      "cell_type": "code",
      "source": "random20_4 = drop_df.sample(20)\nTuition_mean5 = random20_4['TUITIONFEE_IN'].mean()\nrandom20_44 = abs(tuition_mean-Tuition_mean5)\nprint(random20_44)",
      "metadata": {
        "tags": [],
        "cell_id": "00023-b8ec4f74-9028-42fd-8955-b06f2a87829a",
        "deepnote_to_be_reexecuted": false,
        "source_hash": "d4e29a05",
        "execution_start": 1618804092263,
        "execution_millis": 5,
        "deepnote_cell_type": "code"
      },
      "outputs": [
        {
          "name": "stdout",
          "text": "2135.2897759103653\n",
          "output_type": "stream"
        }
      ],
      "execution_count": 33
    },
    {
      "cell_type": "code",
      "source": "# 17 - write function Code here\ndef diff_function(x,y):\n    rand_select =y.sample(x)\n    calc_mean=rand_select['TUITIONFEE_IN'].mean()\n    calc_all_mean=y['TUITIONFEE_IN'].mean()\n    diff_mean=calc_all_mean-calc_mean\n    return diff_mean",
      "metadata": {
        "tags": [],
        "cell_id": "00020-4979131e-70f9-4fb6-a7fa-f1222d8fbb13",
        "deepnote_to_be_reexecuted": false,
        "source_hash": "10d05fff",
        "execution_millis": 2,
        "execution_start": 1618804657273,
        "deepnote_cell_type": "code"
      },
      "outputs": [],
      "execution_count": 34
    },
    {
      "cell_type": "code",
      "source": "# 18 - test the function by passing a sample size and the name of the dataframe\n# Dsplay the return of the function\ndiff_function(40,drop_df)",
      "metadata": {
        "tags": [],
        "cell_id": "00021-a85575f0-76f7-4037-ba1d-503d10193ae5",
        "deepnote_to_be_reexecuted": false,
        "source_hash": "fd36462d",
        "execution_millis": 5,
        "execution_start": 1618804778163,
        "deepnote_cell_type": "code"
      },
      "outputs": [
        {
          "output_type": "execute_result",
          "execution_count": 35,
          "data": {
            "text/plain": "-1779.7602240896358"
          },
          "metadata": {}
        }
      ],
      "execution_count": 35
    },
    {
      "cell_type": "code",
      "source": "# 19 - Create a list of sequence numbers from 1 to 50, name it \"sample_sizes\";\n# display it to make sure its members are from 1 to 50\nsample_sizes=[i for i in range(1,51)]\nsample_sizes",
      "metadata": {
        "tags": [],
        "cell_id": "00022-4c4a09f7-47ee-4575-90c5-3767dcff8dfb",
        "deepnote_to_be_reexecuted": false,
        "source_hash": "2502165d",
        "execution_millis": 7,
        "execution_start": 1618804809313,
        "deepnote_cell_type": "code"
      },
      "outputs": [
        {
          "output_type": "execute_result",
          "execution_count": 36,
          "data": {
            "text/plain": "[1,\n 2,\n 3,\n 4,\n 5,\n 6,\n 7,\n 8,\n 9,\n 10,\n 11,\n 12,\n 13,\n 14,\n 15,\n 16,\n 17,\n 18,\n 19,\n 20,\n 21,\n 22,\n 23,\n 24,\n 25,\n 26,\n 27,\n 28,\n 29,\n 30,\n 31,\n 32,\n 33,\n 34,\n 35,\n 36,\n 37,\n 38,\n 39,\n 40,\n 41,\n 42,\n 43,\n 44,\n 45,\n 46,\n 47,\n 48,\n 49,\n 50]"
          },
          "metadata": {}
        }
      ],
      "execution_count": 36
    },
    {
      "cell_type": "code",
      "source": "# 20 - Create an empty list and name it \"means_diff\" for differences of population mean and sample means;\n# Loop through the list sample_sizes:\n# For each element in the sample size list, obtain a random sample of that size from the data frame;\n# Calculate the sample mean \n# Calculate the difference between the population mean and the sample mean\n# Append the difference to the list \"means_diff\"\n# Display the list \"means_diff\" after the loop is completed\n\nmeans_diff=[]\n\nfor i in sample_sizes:\n    means_diff.append(diff_function(i,df))\n    \n\nmeans_diff",
      "metadata": {
        "tags": [],
        "cell_id": "00023-4ab0e54c-99e8-4260-9f81-0ff8368db9e3",
        "deepnote_to_be_reexecuted": false,
        "source_hash": "55e106e1",
        "execution_millis": 38,
        "execution_start": 1618805089162,
        "deepnote_cell_type": "code"
      },
      "outputs": [
        {
          "output_type": "execute_result",
          "execution_count": 39,
          "data": {
            "text/plain": "[2247.621590114246,\n 9983.621590114246,\n 8963.621590114246,\n 3992.121590114246,\n -3237.878409885754,\n -2138.9784098857544,\n -5656.045076552422,\n 7676.621590114246,\n 838.1215901142459,\n -2890.378409885754,\n 4643.288256780913,\n 1578.8438123364685,\n -1590.211743219088,\n 1370.9073043999597,\n 273.788256780912,\n 5427.538256780913,\n -680.1476406549846,\n -5238.156187663531,\n 1051.3908208834764,\n -2029.4784098857544,\n -965.8329553403,\n 3898.5104790031346,\n -785.9937945011388,\n -3066.1117432190877,\n 3661.95492344758,\n -2585.933965441309,\n -2593.735552742897,\n 144.23270122535723,\n 1903.121590114246,\n -1243.7468309383858,\n 1772.371590114246,\n -3590.6006321079767,\n 1229.2215901142463,\n -1095.1152519910174,\n -1038.6415677804907,\n -533.6965917039361,\n -540.7262359727101,\n -1995.586743219088,\n -5210.969318976662,\n -178.16788356996403,\n 2532.431113923769,\n -499.3784098857541,\n 2946.8523593450154,\n -3328.8355527428976,\n 272.6215901142459,\n 1619.1073043999604,\n 953.9319349418329,\n -1011.5088446683621,\n -1721.52992503727,\n 1441.8284866659706]"
          },
          "metadata": {}
        }
      ],
      "execution_count": 39
    },
    {
      "cell_type": "code",
      "source": "\n# 21 - Make a scatter plot with sample size on the x-axs and  mean difference on the y-axis\n# Observe as the sample size increases, the sample means converge to the population mean.\n# Make sure you make the plot large enough\nplt.scatter(x=sample_sizes,y=means_diff)\n",
      "metadata": {
        "tags": [],
        "cell_id": "00024-485afc8a-2fdd-49a6-9412-3b9141546ee9",
        "deepnote_to_be_reexecuted": false,
        "source_hash": "cdabd0f8",
        "execution_millis": 248,
        "execution_start": 1618805315708,
        "deepnote_cell_type": "code"
      },
      "outputs": [
        {
          "output_type": "execute_result",
          "execution_count": 45,
          "data": {
            "text/plain": "<matplotlib.collections.PathCollection at 0x7f5fb52639d0>"
          },
          "metadata": {}
        },
        {
          "data": {
            "text/plain": "<Figure size 432x288 with 1 Axes>",
            "image/png": "[encoded data removed]"
          },
          "metadata": {
            "needs_background": "light"
          },
          "output_type": "display_data"
        }
      ],
      "execution_count": 45
    },
    {
      "cell_type": "code",
      "source": "# 22 - repeat 18 to 21 by replacing 50 with a larger number. For example, 300, or even 1000.\n# and see how the plot looks.\nsample_sizes=list(range(1,500))\nmeans_diff=[]\nfor x in sample_sizes:\n  means_diff.append(diff_function(x, df))\n\nplt.scatter(x=sample_sizes,y=means_diff)\n",
      "metadata": {
        "tags": [],
        "cell_id": "00025-551cc0e7-c611-40d0-b336-6c6da25f308b",
        "deepnote_to_be_reexecuted": false,
        "source_hash": "1b63ce61",
        "execution_millis": 406,
        "execution_start": 1618805639573,
        "deepnote_cell_type": "code"
      },
      "outputs": [
        {
          "output_type": "execute_result",
          "execution_count": 50,
          "data": {
            "text/plain": "<matplotlib.collections.PathCollection at 0x7f5fb193d810>"
          },
          "metadata": {}
        },
        {
          "data": {
            "text/plain": "<Figure size 432x288 with 1 Axes>",
            "image/png": "[encoded data removed]"
          },
          "metadata": {
            "needs_background": "light"
          },
          "output_type": "display_data"
        }
      ],
      "execution_count": 50
    },
    {
      "cell_type": "code",
      "source": "",
      "metadata": {
        "tags": [],
        "cell_id": "00026-9b39b8a5-70b8-497b-ae60-ec9947f5c0af",
        "deepnote_to_be_reexecuted": false,
        "source_hash": "b623e53d",
        "execution_millis": 0,
        "execution_start": 1618805589587,
        "deepnote_cell_type": "code"
      },
      "outputs": [],
      "execution_count": 47
    },
    {
      "cell_type": "code",
      "source": "",
      "metadata": {
        "tags": [],
        "cell_id": "00031-1469ba96-29cf-4214-b561-bde0a4c2b3bf",
        "deepnote_cell_type": "code"
      },
      "outputs": [],
      "execution_count": null
    },
    {
      "cell_type": "markdown",
      "source": "<a style='text-decoration:none;line-height:16px;display:flex;color:#5B5B62;padding:10px;justify-content:end;' href='https://deepnote.com?utm_source=created-in-deepnote-cell&projectId=c26753ea-08b0-439b-b148-83498e8deadd' target=\"_blank\">\n<img alt='Created in deepnote.com' style='display:inline;max-height:16px;margin:0px;margin-right:7.5px;' src='data:image/svg+xml;base64,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' > </img>\nCreated in <span style='font-weight:600;margin-left:4px;'>Deepnote</span></a>",
      "metadata": {
        "tags": [],
        "created_in_deepnote_cell": true,
        "deepnote_cell_type": "markdown"
      }
    }
  ],
  "nbformat": 4,
  "nbformat_minor": 2,
  "metadata": {
    "orig_nbformat": 2,
    "deepnote": {
      "is_reactive": false
    },
    "deepnote_notebook_id": "f608843a-0f04-4d3c-a91b-6f12328ff054",
    "deepnote_execution_queue": []
  }
}