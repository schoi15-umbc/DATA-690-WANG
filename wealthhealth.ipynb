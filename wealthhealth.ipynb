{
  "nbformat": 4,
  "nbformat_minor": 0,
  "metadata": {
    "colab": {
      "name": "wealthhealth.ipynb",
      "provenance": [],
      "collapsed_sections": [],
      "authorship_tag": "ABX9TyOR1wCbwNqKojDPLShH1ABa",
      "include_colab_link": true
    },
    "kernelspec": {
      "name": "python3",
      "display_name": "Python 3"
    },
    "language_info": {
      "name": "python"
    }
  },
  "cells": [
    {
      "cell_type": "markdown",
      "metadata": {
        "id": "view-in-github",
        "colab_type": "text"
      },
      "source": [
        "<a href=\"https://colab.research.google.com/github/schoi15-umbc/DATA-690-WANG/blob/main/wealthhealth.ipynb\" target=\"_parent\"><img src=\"https://colab.research.google.com/assets/colab-badge.svg\" alt=\"Open In Colab\"/></a>"
      ]
    },
    {
      "cell_type": "code",
      "metadata": {
        "id": "BFaRhEjL7cqj"
      },
      "source": [
        "import pandas as pd\n",
        "import seaborn as sns\n",
        "import matplotlib.pyplot as plt"
      ],
      "execution_count": 25,
      "outputs": []
    },
    {
      "cell_type": "code",
      "metadata": {
        "colab": {
          "base_uri": "https://localhost:8080/"
        },
        "id": "pFsgrp7b7d63",
        "outputId": "da911611-648d-4074-d31f-86dc8b6a8dfe"
      },
      "source": [
        "df = pd.read_csv(\"wdi_data.csv\")\n",
        "df.shape"
      ],
      "execution_count": 2,
      "outputs": [
        {
          "output_type": "execute_result",
          "data": {
            "text/plain": [
              "(45, 10)"
            ]
          },
          "metadata": {
            "tags": []
          },
          "execution_count": 2
        }
      ]
    },
    {
      "cell_type": "code",
      "metadata": {
        "colab": {
          "base_uri": "https://localhost:8080/",
          "height": 306
        },
        "id": "Sm8zgUYu807k",
        "outputId": "7aa2fc7a-f2cc-472b-fe3d-fb68f6dd73fc"
      },
      "source": [
        "df.head()\n"
      ],
      "execution_count": 4,
      "outputs": [
        {
          "output_type": "execute_result",
          "data": {
            "text/html": [
              "<div>\n",
              "<style scoped>\n",
              "    .dataframe tbody tr th:only-of-type {\n",
              "        vertical-align: middle;\n",
              "    }\n",
              "\n",
              "    .dataframe tbody tr th {\n",
              "        vertical-align: top;\n",
              "    }\n",
              "\n",
              "    .dataframe thead th {\n",
              "        text-align: right;\n",
              "    }\n",
              "</style>\n",
              "<table border=\"1\" class=\"dataframe\">\n",
              "  <thead>\n",
              "    <tr style=\"text-align: right;\">\n",
              "      <th></th>\n",
              "      <th>Unnamed: 0</th>\n",
              "      <th>Year</th>\n",
              "      <th>SP.POP.TOTL</th>\n",
              "      <th>SP.DYN.LE00.IN</th>\n",
              "      <th>NY.GDP.PCAP.PP.CD</th>\n",
              "      <th>Country Code</th>\n",
              "      <th>Country Name</th>\n",
              "      <th>Region</th>\n",
              "      <th>Income Group</th>\n",
              "      <th>Lending Type</th>\n",
              "    </tr>\n",
              "  </thead>\n",
              "  <tbody>\n",
              "    <tr>\n",
              "      <th>0</th>\n",
              "      <td>0</td>\n",
              "      <td>2010</td>\n",
              "      <td>34004889</td>\n",
              "      <td>81.246341</td>\n",
              "      <td>40019.926250</td>\n",
              "      <td>CAN</td>\n",
              "      <td>Canada</td>\n",
              "      <td>North America</td>\n",
              "      <td>High income</td>\n",
              "      <td>Not classified</td>\n",
              "    </tr>\n",
              "    <tr>\n",
              "      <th>1</th>\n",
              "      <td>1</td>\n",
              "      <td>2011</td>\n",
              "      <td>34339328</td>\n",
              "      <td>81.448780</td>\n",
              "      <td>41569.449617</td>\n",
              "      <td>CAN</td>\n",
              "      <td>Canada</td>\n",
              "      <td>North America</td>\n",
              "      <td>High income</td>\n",
              "      <td>Not classified</td>\n",
              "    </tr>\n",
              "    <tr>\n",
              "      <th>2</th>\n",
              "      <td>2</td>\n",
              "      <td>2012</td>\n",
              "      <td>34714222</td>\n",
              "      <td>81.648780</td>\n",
              "      <td>42290.965410</td>\n",
              "      <td>CAN</td>\n",
              "      <td>Canada</td>\n",
              "      <td>North America</td>\n",
              "      <td>High income</td>\n",
              "      <td>Not classified</td>\n",
              "    </tr>\n",
              "    <tr>\n",
              "      <th>3</th>\n",
              "      <td>3</td>\n",
              "      <td>2013</td>\n",
              "      <td>35082954</td>\n",
              "      <td>81.748780</td>\n",
              "      <td>44298.578734</td>\n",
              "      <td>CAN</td>\n",
              "      <td>Canada</td>\n",
              "      <td>North America</td>\n",
              "      <td>High income</td>\n",
              "      <td>Not classified</td>\n",
              "    </tr>\n",
              "    <tr>\n",
              "      <th>4</th>\n",
              "      <td>4</td>\n",
              "      <td>2014</td>\n",
              "      <td>35437435</td>\n",
              "      <td>81.800000</td>\n",
              "      <td>45753.750555</td>\n",
              "      <td>CAN</td>\n",
              "      <td>Canada</td>\n",
              "      <td>North America</td>\n",
              "      <td>High income</td>\n",
              "      <td>Not classified</td>\n",
              "    </tr>\n",
              "  </tbody>\n",
              "</table>\n",
              "</div>"
            ],
            "text/plain": [
              "   Unnamed: 0  Year  SP.POP.TOTL  ...         Region  Income Group    Lending Type\n",
              "0           0  2010     34004889  ...  North America   High income  Not classified\n",
              "1           1  2011     34339328  ...  North America   High income  Not classified\n",
              "2           2  2012     34714222  ...  North America   High income  Not classified\n",
              "3           3  2013     35082954  ...  North America   High income  Not classified\n",
              "4           4  2014     35437435  ...  North America   High income  Not classified\n",
              "\n",
              "[5 rows x 10 columns]"
            ]
          },
          "metadata": {
            "tags": []
          },
          "execution_count": 4
        }
      ]
    },
    {
      "cell_type": "code",
      "metadata": {
        "colab": {
          "base_uri": "https://localhost:8080/",
          "height": 306
        },
        "id": "VJZXTXaj8PQL",
        "outputId": "38d8fcaa-6371-4c7a-a6e6-45d577d8b270"
      },
      "source": [
        "df.drop(columns=[\"Unnamed: 0\"], inplace=True)\n",
        "df.head()"
      ],
      "execution_count": 9,
      "outputs": [
        {
          "output_type": "execute_result",
          "data": {
            "text/html": [
              "<div>\n",
              "<style scoped>\n",
              "    .dataframe tbody tr th:only-of-type {\n",
              "        vertical-align: middle;\n",
              "    }\n",
              "\n",
              "    .dataframe tbody tr th {\n",
              "        vertical-align: top;\n",
              "    }\n",
              "\n",
              "    .dataframe thead th {\n",
              "        text-align: right;\n",
              "    }\n",
              "</style>\n",
              "<table border=\"1\" class=\"dataframe\">\n",
              "  <thead>\n",
              "    <tr style=\"text-align: right;\">\n",
              "      <th></th>\n",
              "      <th>Year</th>\n",
              "      <th>SP.POP.TOTL</th>\n",
              "      <th>SP.DYN.LE00.IN</th>\n",
              "      <th>NY.GDP.PCAP.PP.CD</th>\n",
              "      <th>Country Code</th>\n",
              "      <th>Country Name</th>\n",
              "      <th>Region</th>\n",
              "      <th>Income Group</th>\n",
              "      <th>Lending Type</th>\n",
              "    </tr>\n",
              "  </thead>\n",
              "  <tbody>\n",
              "    <tr>\n",
              "      <th>0</th>\n",
              "      <td>2010</td>\n",
              "      <td>34004889</td>\n",
              "      <td>81.246341</td>\n",
              "      <td>40019.926250</td>\n",
              "      <td>CAN</td>\n",
              "      <td>Canada</td>\n",
              "      <td>North America</td>\n",
              "      <td>High income</td>\n",
              "      <td>Not classified</td>\n",
              "    </tr>\n",
              "    <tr>\n",
              "      <th>1</th>\n",
              "      <td>2011</td>\n",
              "      <td>34339328</td>\n",
              "      <td>81.448780</td>\n",
              "      <td>41569.449617</td>\n",
              "      <td>CAN</td>\n",
              "      <td>Canada</td>\n",
              "      <td>North America</td>\n",
              "      <td>High income</td>\n",
              "      <td>Not classified</td>\n",
              "    </tr>\n",
              "    <tr>\n",
              "      <th>2</th>\n",
              "      <td>2012</td>\n",
              "      <td>34714222</td>\n",
              "      <td>81.648780</td>\n",
              "      <td>42290.965410</td>\n",
              "      <td>CAN</td>\n",
              "      <td>Canada</td>\n",
              "      <td>North America</td>\n",
              "      <td>High income</td>\n",
              "      <td>Not classified</td>\n",
              "    </tr>\n",
              "    <tr>\n",
              "      <th>3</th>\n",
              "      <td>2013</td>\n",
              "      <td>35082954</td>\n",
              "      <td>81.748780</td>\n",
              "      <td>44298.578734</td>\n",
              "      <td>CAN</td>\n",
              "      <td>Canada</td>\n",
              "      <td>North America</td>\n",
              "      <td>High income</td>\n",
              "      <td>Not classified</td>\n",
              "    </tr>\n",
              "    <tr>\n",
              "      <th>4</th>\n",
              "      <td>2014</td>\n",
              "      <td>35437435</td>\n",
              "      <td>81.800000</td>\n",
              "      <td>45753.750555</td>\n",
              "      <td>CAN</td>\n",
              "      <td>Canada</td>\n",
              "      <td>North America</td>\n",
              "      <td>High income</td>\n",
              "      <td>Not classified</td>\n",
              "    </tr>\n",
              "  </tbody>\n",
              "</table>\n",
              "</div>"
            ],
            "text/plain": [
              "   Year  SP.POP.TOTL  ...  Income Group    Lending Type\n",
              "0  2010     34004889  ...   High income  Not classified\n",
              "1  2011     34339328  ...   High income  Not classified\n",
              "2  2012     34714222  ...   High income  Not classified\n",
              "3  2013     35082954  ...   High income  Not classified\n",
              "4  2014     35437435  ...   High income  Not classified\n",
              "\n",
              "[5 rows x 9 columns]"
            ]
          },
          "metadata": {
            "tags": []
          },
          "execution_count": 9
        }
      ]
    },
    {
      "cell_type": "code",
      "metadata": {
        "colab": {
          "base_uri": "https://localhost:8080/",
          "height": 173
        },
        "id": "Shqndw9u83IT",
        "outputId": "2c61b688-be67-4f55-9792-7164798d454f"
      },
      "source": [
        "df.describe(include=\"O\")"
      ],
      "execution_count": 10,
      "outputs": [
        {
          "output_type": "execute_result",
          "data": {
            "text/html": [
              "<div>\n",
              "<style scoped>\n",
              "    .dataframe tbody tr th:only-of-type {\n",
              "        vertical-align: middle;\n",
              "    }\n",
              "\n",
              "    .dataframe tbody tr th {\n",
              "        vertical-align: top;\n",
              "    }\n",
              "\n",
              "    .dataframe thead th {\n",
              "        text-align: right;\n",
              "    }\n",
              "</style>\n",
              "<table border=\"1\" class=\"dataframe\">\n",
              "  <thead>\n",
              "    <tr style=\"text-align: right;\">\n",
              "      <th></th>\n",
              "      <th>Country Code</th>\n",
              "      <th>Country Name</th>\n",
              "      <th>Region</th>\n",
              "      <th>Income Group</th>\n",
              "      <th>Lending Type</th>\n",
              "    </tr>\n",
              "  </thead>\n",
              "  <tbody>\n",
              "    <tr>\n",
              "      <th>count</th>\n",
              "      <td>45</td>\n",
              "      <td>45</td>\n",
              "      <td>45</td>\n",
              "      <td>45</td>\n",
              "      <td>45</td>\n",
              "    </tr>\n",
              "    <tr>\n",
              "      <th>unique</th>\n",
              "      <td>5</td>\n",
              "      <td>5</td>\n",
              "      <td>4</td>\n",
              "      <td>3</td>\n",
              "      <td>2</td>\n",
              "    </tr>\n",
              "    <tr>\n",
              "      <th>top</th>\n",
              "      <td>DEU</td>\n",
              "      <td>China</td>\n",
              "      <td>North America</td>\n",
              "      <td>High income</td>\n",
              "      <td>Not classified</td>\n",
              "    </tr>\n",
              "    <tr>\n",
              "      <th>freq</th>\n",
              "      <td>9</td>\n",
              "      <td>9</td>\n",
              "      <td>18</td>\n",
              "      <td>27</td>\n",
              "      <td>27</td>\n",
              "    </tr>\n",
              "  </tbody>\n",
              "</table>\n",
              "</div>"
            ],
            "text/plain": [
              "       Country Code Country Name         Region Income Group    Lending Type\n",
              "count            45           45             45           45              45\n",
              "unique            5            5              4            3               2\n",
              "top             DEU        China  North America  High income  Not classified\n",
              "freq              9            9             18           27              27"
            ]
          },
          "metadata": {
            "tags": []
          },
          "execution_count": 10
        }
      ]
    },
    {
      "cell_type": "code",
      "metadata": {
        "colab": {
          "base_uri": "https://localhost:8080/",
          "height": 297
        },
        "id": "jcWh_Do29GhK",
        "outputId": "c39ba9ee-99e7-4392-bee1-ebacbe02c62c"
      },
      "source": [
        "df.describe()"
      ],
      "execution_count": 11,
      "outputs": [
        {
          "output_type": "execute_result",
          "data": {
            "text/html": [
              "<div>\n",
              "<style scoped>\n",
              "    .dataframe tbody tr th:only-of-type {\n",
              "        vertical-align: middle;\n",
              "    }\n",
              "\n",
              "    .dataframe tbody tr th {\n",
              "        vertical-align: top;\n",
              "    }\n",
              "\n",
              "    .dataframe thead th {\n",
              "        text-align: right;\n",
              "    }\n",
              "</style>\n",
              "<table border=\"1\" class=\"dataframe\">\n",
              "  <thead>\n",
              "    <tr style=\"text-align: right;\">\n",
              "      <th></th>\n",
              "      <th>Year</th>\n",
              "      <th>SP.POP.TOTL</th>\n",
              "      <th>SP.DYN.LE00.IN</th>\n",
              "      <th>NY.GDP.PCAP.PP.CD</th>\n",
              "    </tr>\n",
              "  </thead>\n",
              "  <tbody>\n",
              "    <tr>\n",
              "      <th>count</th>\n",
              "      <td>45.000000</td>\n",
              "      <td>4.500000e+01</td>\n",
              "      <td>45.000000</td>\n",
              "      <td>45.000000</td>\n",
              "    </tr>\n",
              "    <tr>\n",
              "      <th>mean</th>\n",
              "      <td>2014.000000</td>\n",
              "      <td>6.189529e+08</td>\n",
              "      <td>76.967286</td>\n",
              "      <td>33003.439502</td>\n",
              "    </tr>\n",
              "    <tr>\n",
              "      <th>std</th>\n",
              "      <td>2.611165</td>\n",
              "      <td>5.956429e+08</td>\n",
              "      <td>4.949534</td>\n",
              "      <td>20651.323159</td>\n",
              "    </tr>\n",
              "    <tr>\n",
              "      <th>min</th>\n",
              "      <td>2010.000000</td>\n",
              "      <td>3.400489e+07</td>\n",
              "      <td>66.693000</td>\n",
              "      <td>4236.744236</td>\n",
              "    </tr>\n",
              "    <tr>\n",
              "      <th>25%</th>\n",
              "      <td>2012.000000</td>\n",
              "      <td>8.064560e+07</td>\n",
              "      <td>75.013000</td>\n",
              "      <td>11197.596936</td>\n",
              "    </tr>\n",
              "    <tr>\n",
              "      <th>50%</th>\n",
              "      <td>2014.000000</td>\n",
              "      <td>3.183010e+08</td>\n",
              "      <td>78.641463</td>\n",
              "      <td>42541.531088</td>\n",
              "    </tr>\n",
              "    <tr>\n",
              "      <th>75%</th>\n",
              "      <td>2016.000000</td>\n",
              "      <td>1.324510e+09</td>\n",
              "      <td>80.990244</td>\n",
              "      <td>49886.818109</td>\n",
              "    </tr>\n",
              "    <tr>\n",
              "      <th>max</th>\n",
              "      <td>2018.000000</td>\n",
              "      <td>1.392730e+09</td>\n",
              "      <td>81.948780</td>\n",
              "      <td>62996.471285</td>\n",
              "    </tr>\n",
              "  </tbody>\n",
              "</table>\n",
              "</div>"
            ],
            "text/plain": [
              "              Year   SP.POP.TOTL  SP.DYN.LE00.IN  NY.GDP.PCAP.PP.CD\n",
              "count    45.000000  4.500000e+01       45.000000          45.000000\n",
              "mean   2014.000000  6.189529e+08       76.967286       33003.439502\n",
              "std       2.611165  5.956429e+08        4.949534       20651.323159\n",
              "min    2010.000000  3.400489e+07       66.693000        4236.744236\n",
              "25%    2012.000000  8.064560e+07       75.013000       11197.596936\n",
              "50%    2014.000000  3.183010e+08       78.641463       42541.531088\n",
              "75%    2016.000000  1.324510e+09       80.990244       49886.818109\n",
              "max    2018.000000  1.392730e+09       81.948780       62996.471285"
            ]
          },
          "metadata": {
            "tags": []
          },
          "execution_count": 11
        }
      ]
    },
    {
      "cell_type": "code",
      "metadata": {
        "colab": {
          "base_uri": "https://localhost:8080/",
          "height": 405
        },
        "id": "2TUyBdux9c0P",
        "outputId": "39fe5bd9-0605-4c8d-e69a-dbcab07057dc"
      },
      "source": [
        "df[df[\"Year\"] ==2010].plot.scatter(\"NY.GDP.PCAP.PP.CD\",\"SP.DYN.LE00.IN\" , figsize=(12,6))"
      ],
      "execution_count": 14,
      "outputs": [
        {
          "output_type": "execute_result",
          "data": {
            "text/plain": [
              "<matplotlib.axes._subplots.AxesSubplot at 0x7fe290e8ff90>"
            ]
          },
          "metadata": {
            "tags": []
          },
          "execution_count": 14
        },
        {
          "output_type": "display_data",
          "data": {
            "image/png": "[encoded data removed]",
            "text/plain": [
              "<Figure size 864x432 with 1 Axes>"
            ]
          },
          "metadata": {
            "tags": [],
            "needs_background": "light"
          }
        }
      ]
    },
    {
      "cell_type": "code",
      "metadata": {
        "id": "W4rmGsBnCNd3"
      },
      "source": [
        "df_2018= df[df[\"Year\"] == 2018]"
      ],
      "execution_count": 22,
      "outputs": []
    },
    {
      "cell_type": "code",
      "metadata": {
        "colab": {
          "base_uri": "https://localhost:8080/",
          "height": 421
        },
        "id": "owjmG3vZ95GA",
        "outputId": "15d01cb1-c3bb-4a0b-b46d-919de9cf5687"
      },
      "source": [
        "fig, ax = plt.subplots(figsize=(12,6))\n",
        "ax.scatter(df_2018[\"NY.GDP.PCAP.PP.CD\"],df_2018[\"SP.DYN.LE00.IN\"])\n",
        "ax.set_xlabel(\"GDP Per Capita\")\n",
        "ax.set_ylabel(\"Life Expextancy\")\n",
        "ax.set_title(\"Life Expectancy vs GDP per Captica (2018)\")"
      ],
      "execution_count": 24,
      "outputs": [
        {
          "output_type": "execute_result",
          "data": {
            "text/plain": [
              "Text(0.5, 1.0, 'Life Expectancy vs GDP per Captica (2018)')"
            ]
          },
          "metadata": {
            "tags": []
          },
          "execution_count": 24
        },
        {
          "output_type": "display_data",
          "data": {
            "image/png": "[encoded data removed]",
            "text/plain": [
              "<Figure size 864x432 with 1 Axes>"
            ]
          },
          "metadata": {
            "tags": [],
            "needs_background": "light"
          }
        }
      ]
    },
    {
      "cell_type": "code",
      "metadata": {
        "id": "jDEAB9iDD9kX"
      },
      "source": [
        " sns.set_style(\"darkgrid\") "
      ],
      "execution_count": 29,
      "outputs": []
    },
    {
      "cell_type": "code",
      "metadata": {
        "colab": {
          "base_uri": "https://localhost:8080/",
          "height": 530
        },
        "id": "EtcNpt5LA-9m",
        "outputId": "1f415112-3928-46c6-c7b2-39277bd2e1a8"
      },
      "source": [
        "fig, myax = plt.subplots(figsize = (12,8))\n",
        "\n",
        "sns.scatterplot(ax =myax, data = df_2018, x = \"NY.GDP.PCAP.PP.CD\", y=\"SP.DYN.LE00.IN\", hue=\"Country Name\", size = \"SP.POP.TOTL\")\n",
        "\n",
        "plt.legend(loc ='lower right')\n",
        "myax.set_xlabel(\"GDP Per Capita\")\n",
        "myax.set_ylabel(\"Life Expextancy\")\n",
        "myax.set_title(\"Life Expectancy vs GDP per Captica (2018)\")"
      ],
      "execution_count": 39,
      "outputs": [
        {
          "output_type": "execute_result",
          "data": {
            "text/plain": [
              "Text(0.5, 1.0, 'Life Expectancy vs GDP per Captica (2018)')"
            ]
          },
          "metadata": {
            "tags": []
          },
          "execution_count": 39
        },
        {
          "output_type": "display_data",
          "data": {
            "image/png": "[encoded data removed]",
            "text/plain": [
              "<Figure size 864x576 with 1 Axes>"
            ]
          },
          "metadata": {
            "tags": []
          }
        }
      ]
    },
    {
      "cell_type": "code",
      "metadata": {
        "id": "BkrwfyiiEC-x"
      },
      "source": [
        ""
      ],
      "execution_count": null,
      "outputs": []
    }
  ]
}