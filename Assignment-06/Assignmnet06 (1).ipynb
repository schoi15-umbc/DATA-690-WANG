{
  "nbformat": 4,
  "nbformat_minor": 0,
  "metadata": {
    "colab": {
      "name": "Assignmnet06.ipynb",
      "provenance": []
    },
    "kernelspec": {
      "name": "python3",
      "display_name": "Python 3"
    }
  },
  "cells": [
    {
      "cell_type": "markdown",
      "metadata": {
        "id": "yNttrncZvxHi"
      },
      "source": [
        "**Assignment 06 Using Pandas**\n",
        "\n",
        "Sooyeon Choi\n",
        "\n",
        "March 14 2021"
      ]
    },
    {
      "cell_type": "markdown",
      "metadata": {
        "id": "SGLKThglvhLP"
      },
      "source": [
        "1. Use Pandas read_html() function to retrive the HTML tables as dataframes from the web page: https://www.genealogybranches.com/censuscosts.html\n"
      ]
    },
    {
      "cell_type": "code",
      "metadata": {
        "id": "vq1qrpXw5ECj"
      },
      "source": [
        ""
      ],
      "execution_count": 23,
      "outputs": []
    },
    {
      "cell_type": "code",
      "metadata": {
        "colab": {
          "base_uri": "https://localhost:8080/"
        },
        "id": "kbVIh9TgwIog",
        "outputId": "cbd70e55-06d2-4317-821d-922d1af8913a"
      },
      "source": [
        "import pandas as pd\n",
        "\n",
        "df = pd.read_html('https://www.genealogybranches.com/censuscosts.html')\n",
        "df "
      ],
      "execution_count": 24,
      "outputs": [
        {
          "output_type": "execute_result",
          "data": {
            "text/plain": [
              "[              0                 1               2                        3\n",
              " 0   Census Year  Total Population     Census Cost  Average Cost Per Person\n",
              " 1          1790           3929214         $44,377               1.13 cents\n",
              " 2          1800           5308483         $66,109               1.24 cents\n",
              " 3          1810           7239881        $178,445               2.46 cents\n",
              " 4          1820           9633822        $208,526               2.16 cents\n",
              " 5          1830          12866020        $378,545               2.94 cents\n",
              " 6          1840          17069458        $833,371               4.88 cents\n",
              " 7          1850          23191876      $1,423,351               6.14 cents\n",
              " 8          1860          31443321      $1,969,377               6.26 cents\n",
              " 9          1870          38558371      $3,421,198               8.87 cents\n",
              " 10         1880          50155783      $5,790,678              11.54 cents\n",
              " 11         1890          62979766     $11,547,127              18.33 cents\n",
              " 12         1900          76303387     $11,854,000              15.54 cents\n",
              " 13         1910          91972266     $15,968,000              17.07 cents\n",
              " 14         1920         105710620     $25,117,000              23.76 cents\n",
              " 15         1930         122775046     $40,156,000              32.71 cents\n",
              " 16         1940         131669275     $67,527,000              51.29 cents\n",
              " 17         1950         151325798     $91,462,000              60.44 cents\n",
              " 18         1960         179323175    $127,934,000              71.34 cents\n",
              " 19         1970         203302031    $247,653,000                    $1.22\n",
              " 20         1980         226542199  $1,078,488,000                    $4.76\n",
              " 21         1990         248718301  $2,492,830,000                   $10.02\n",
              " 22         2000         281421906    $4.5 Billion                   $15.99\n",
              " 23        2010*         308745538     $13 Billion                   $42.11,\n",
              "                                                    0\n",
              " 0  The U.S. population reached 300,000,000 on 17 ...]"
            ]
          },
          "metadata": {
            "tags": []
          },
          "execution_count": 24
        }
      ]
    },
    {
      "cell_type": "markdown",
      "metadata": {
        "id": "on0gJCAovhur"
      },
      "source": [
        "2. Find out how many HTML tables Pandas retrieves from the web page. Find out which dataframe contain the data and use it for further processing.\n"
      ]
    },
    {
      "cell_type": "code",
      "metadata": {
        "colab": {
          "base_uri": "https://localhost:8080/",
          "height": 204
        },
        "id": "ToPjOBZTxmPw",
        "outputId": "47f15768-deb6-41e4-893a-251612823cef"
      },
      "source": [
        "df1 = df[0]\n",
        "df1.head()"
      ],
      "execution_count": 25,
      "outputs": [
        {
          "output_type": "execute_result",
          "data": {
            "text/html": [
              "<div>\n",
              "<style scoped>\n",
              "    .dataframe tbody tr th:only-of-type {\n",
              "        vertical-align: middle;\n",
              "    }\n",
              "\n",
              "    .dataframe tbody tr th {\n",
              "        vertical-align: top;\n",
              "    }\n",
              "\n",
              "    .dataframe thead th {\n",
              "        text-align: right;\n",
              "    }\n",
              "</style>\n",
              "<table border=\"1\" class=\"dataframe\">\n",
              "  <thead>\n",
              "    <tr style=\"text-align: right;\">\n",
              "      <th></th>\n",
              "      <th>0</th>\n",
              "      <th>1</th>\n",
              "      <th>2</th>\n",
              "      <th>3</th>\n",
              "    </tr>\n",
              "  </thead>\n",
              "  <tbody>\n",
              "    <tr>\n",
              "      <th>0</th>\n",
              "      <td>Census Year</td>\n",
              "      <td>Total Population</td>\n",
              "      <td>Census Cost</td>\n",
              "      <td>Average Cost Per Person</td>\n",
              "    </tr>\n",
              "    <tr>\n",
              "      <th>1</th>\n",
              "      <td>1790</td>\n",
              "      <td>3929214</td>\n",
              "      <td>$44,377</td>\n",
              "      <td>1.13 cents</td>\n",
              "    </tr>\n",
              "    <tr>\n",
              "      <th>2</th>\n",
              "      <td>1800</td>\n",
              "      <td>5308483</td>\n",
              "      <td>$66,109</td>\n",
              "      <td>1.24 cents</td>\n",
              "    </tr>\n",
              "    <tr>\n",
              "      <th>3</th>\n",
              "      <td>1810</td>\n",
              "      <td>7239881</td>\n",
              "      <td>$178,445</td>\n",
              "      <td>2.46 cents</td>\n",
              "    </tr>\n",
              "    <tr>\n",
              "      <th>4</th>\n",
              "      <td>1820</td>\n",
              "      <td>9633822</td>\n",
              "      <td>$208,526</td>\n",
              "      <td>2.16 cents</td>\n",
              "    </tr>\n",
              "  </tbody>\n",
              "</table>\n",
              "</div>"
            ],
            "text/plain": [
              "             0                 1            2                        3\n",
              "0  Census Year  Total Population  Census Cost  Average Cost Per Person\n",
              "1         1790           3929214      $44,377               1.13 cents\n",
              "2         1800           5308483      $66,109               1.24 cents\n",
              "3         1810           7239881     $178,445               2.46 cents\n",
              "4         1820           9633822     $208,526               2.16 cents"
            ]
          },
          "metadata": {
            "tags": []
          },
          "execution_count": 25
        }
      ]
    },
    {
      "cell_type": "code",
      "metadata": {
        "colab": {
          "base_uri": "https://localhost:8080/",
          "height": 80
        },
        "id": "UXBofzLo1pTc",
        "outputId": "293d90dc-6020-49ca-8623-aaac1fecef4a"
      },
      "source": [
        "df2 = df[1]\n",
        "df2.head()"
      ],
      "execution_count": 26,
      "outputs": [
        {
          "output_type": "execute_result",
          "data": {
            "text/html": [
              "<div>\n",
              "<style scoped>\n",
              "    .dataframe tbody tr th:only-of-type {\n",
              "        vertical-align: middle;\n",
              "    }\n",
              "\n",
              "    .dataframe tbody tr th {\n",
              "        vertical-align: top;\n",
              "    }\n",
              "\n",
              "    .dataframe thead th {\n",
              "        text-align: right;\n",
              "    }\n",
              "</style>\n",
              "<table border=\"1\" class=\"dataframe\">\n",
              "  <thead>\n",
              "    <tr style=\"text-align: right;\">\n",
              "      <th></th>\n",
              "      <th>0</th>\n",
              "    </tr>\n",
              "  </thead>\n",
              "  <tbody>\n",
              "    <tr>\n",
              "      <th>0</th>\n",
              "      <td>The U.S. population reached 300,000,000 on 17 ...</td>\n",
              "    </tr>\n",
              "  </tbody>\n",
              "</table>\n",
              "</div>"
            ],
            "text/plain": [
              "                                                   0\n",
              "0  The U.S. population reached 300,000,000 on 17 ..."
            ]
          },
          "metadata": {
            "tags": []
          },
          "execution_count": 26
        }
      ]
    },
    {
      "cell_type": "markdown",
      "metadata": {
        "id": "aj-MFaxyvjlK"
      },
      "source": [
        "3. Display and explore the data (rows, columns, etc.) and determine the data quality (bad rows, bad columns, bad elements, null values, etc.)\n"
      ]
    },
    {
      "cell_type": "code",
      "metadata": {
        "colab": {
          "base_uri": "https://localhost:8080/",
          "height": 793
        },
        "id": "EEJHDN7f1867",
        "outputId": "e638b135-376a-4617-b165-773d3afcd746"
      },
      "source": [
        "df1"
      ],
      "execution_count": 27,
      "outputs": [
        {
          "output_type": "execute_result",
          "data": {
            "text/html": [
              "<div>\n",
              "<style scoped>\n",
              "    .dataframe tbody tr th:only-of-type {\n",
              "        vertical-align: middle;\n",
              "    }\n",
              "\n",
              "    .dataframe tbody tr th {\n",
              "        vertical-align: top;\n",
              "    }\n",
              "\n",
              "    .dataframe thead th {\n",
              "        text-align: right;\n",
              "    }\n",
              "</style>\n",
              "<table border=\"1\" class=\"dataframe\">\n",
              "  <thead>\n",
              "    <tr style=\"text-align: right;\">\n",
              "      <th></th>\n",
              "      <th>0</th>\n",
              "      <th>1</th>\n",
              "      <th>2</th>\n",
              "      <th>3</th>\n",
              "    </tr>\n",
              "  </thead>\n",
              "  <tbody>\n",
              "    <tr>\n",
              "      <th>0</th>\n",
              "      <td>Census Year</td>\n",
              "      <td>Total Population</td>\n",
              "      <td>Census Cost</td>\n",
              "      <td>Average Cost Per Person</td>\n",
              "    </tr>\n",
              "    <tr>\n",
              "      <th>1</th>\n",
              "      <td>1790</td>\n",
              "      <td>3929214</td>\n",
              "      <td>$44,377</td>\n",
              "      <td>1.13 cents</td>\n",
              "    </tr>\n",
              "    <tr>\n",
              "      <th>2</th>\n",
              "      <td>1800</td>\n",
              "      <td>5308483</td>\n",
              "      <td>$66,109</td>\n",
              "      <td>1.24 cents</td>\n",
              "    </tr>\n",
              "    <tr>\n",
              "      <th>3</th>\n",
              "      <td>1810</td>\n",
              "      <td>7239881</td>\n",
              "      <td>$178,445</td>\n",
              "      <td>2.46 cents</td>\n",
              "    </tr>\n",
              "    <tr>\n",
              "      <th>4</th>\n",
              "      <td>1820</td>\n",
              "      <td>9633822</td>\n",
              "      <td>$208,526</td>\n",
              "      <td>2.16 cents</td>\n",
              "    </tr>\n",
              "    <tr>\n",
              "      <th>5</th>\n",
              "      <td>1830</td>\n",
              "      <td>12866020</td>\n",
              "      <td>$378,545</td>\n",
              "      <td>2.94 cents</td>\n",
              "    </tr>\n",
              "    <tr>\n",
              "      <th>6</th>\n",
              "      <td>1840</td>\n",
              "      <td>17069458</td>\n",
              "      <td>$833,371</td>\n",
              "      <td>4.88 cents</td>\n",
              "    </tr>\n",
              "    <tr>\n",
              "      <th>7</th>\n",
              "      <td>1850</td>\n",
              "      <td>23191876</td>\n",
              "      <td>$1,423,351</td>\n",
              "      <td>6.14 cents</td>\n",
              "    </tr>\n",
              "    <tr>\n",
              "      <th>8</th>\n",
              "      <td>1860</td>\n",
              "      <td>31443321</td>\n",
              "      <td>$1,969,377</td>\n",
              "      <td>6.26 cents</td>\n",
              "    </tr>\n",
              "    <tr>\n",
              "      <th>9</th>\n",
              "      <td>1870</td>\n",
              "      <td>38558371</td>\n",
              "      <td>$3,421,198</td>\n",
              "      <td>8.87 cents</td>\n",
              "    </tr>\n",
              "    <tr>\n",
              "      <th>10</th>\n",
              "      <td>1880</td>\n",
              "      <td>50155783</td>\n",
              "      <td>$5,790,678</td>\n",
              "      <td>11.54 cents</td>\n",
              "    </tr>\n",
              "    <tr>\n",
              "      <th>11</th>\n",
              "      <td>1890</td>\n",
              "      <td>62979766</td>\n",
              "      <td>$11,547,127</td>\n",
              "      <td>18.33 cents</td>\n",
              "    </tr>\n",
              "    <tr>\n",
              "      <th>12</th>\n",
              "      <td>1900</td>\n",
              "      <td>76303387</td>\n",
              "      <td>$11,854,000</td>\n",
              "      <td>15.54 cents</td>\n",
              "    </tr>\n",
              "    <tr>\n",
              "      <th>13</th>\n",
              "      <td>1910</td>\n",
              "      <td>91972266</td>\n",
              "      <td>$15,968,000</td>\n",
              "      <td>17.07 cents</td>\n",
              "    </tr>\n",
              "    <tr>\n",
              "      <th>14</th>\n",
              "      <td>1920</td>\n",
              "      <td>105710620</td>\n",
              "      <td>$25,117,000</td>\n",
              "      <td>23.76 cents</td>\n",
              "    </tr>\n",
              "    <tr>\n",
              "      <th>15</th>\n",
              "      <td>1930</td>\n",
              "      <td>122775046</td>\n",
              "      <td>$40,156,000</td>\n",
              "      <td>32.71 cents</td>\n",
              "    </tr>\n",
              "    <tr>\n",
              "      <th>16</th>\n",
              "      <td>1940</td>\n",
              "      <td>131669275</td>\n",
              "      <td>$67,527,000</td>\n",
              "      <td>51.29 cents</td>\n",
              "    </tr>\n",
              "    <tr>\n",
              "      <th>17</th>\n",
              "      <td>1950</td>\n",
              "      <td>151325798</td>\n",
              "      <td>$91,462,000</td>\n",
              "      <td>60.44 cents</td>\n",
              "    </tr>\n",
              "    <tr>\n",
              "      <th>18</th>\n",
              "      <td>1960</td>\n",
              "      <td>179323175</td>\n",
              "      <td>$127,934,000</td>\n",
              "      <td>71.34 cents</td>\n",
              "    </tr>\n",
              "    <tr>\n",
              "      <th>19</th>\n",
              "      <td>1970</td>\n",
              "      <td>203302031</td>\n",
              "      <td>$247,653,000</td>\n",
              "      <td>$1.22</td>\n",
              "    </tr>\n",
              "    <tr>\n",
              "      <th>20</th>\n",
              "      <td>1980</td>\n",
              "      <td>226542199</td>\n",
              "      <td>$1,078,488,000</td>\n",
              "      <td>$4.76</td>\n",
              "    </tr>\n",
              "    <tr>\n",
              "      <th>21</th>\n",
              "      <td>1990</td>\n",
              "      <td>248718301</td>\n",
              "      <td>$2,492,830,000</td>\n",
              "      <td>$10.02</td>\n",
              "    </tr>\n",
              "    <tr>\n",
              "      <th>22</th>\n",
              "      <td>2000</td>\n",
              "      <td>281421906</td>\n",
              "      <td>$4.5 Billion</td>\n",
              "      <td>$15.99</td>\n",
              "    </tr>\n",
              "    <tr>\n",
              "      <th>23</th>\n",
              "      <td>2010*</td>\n",
              "      <td>308745538</td>\n",
              "      <td>$13 Billion</td>\n",
              "      <td>$42.11</td>\n",
              "    </tr>\n",
              "  </tbody>\n",
              "</table>\n",
              "</div>"
            ],
            "text/plain": [
              "              0                 1               2                        3\n",
              "0   Census Year  Total Population     Census Cost  Average Cost Per Person\n",
              "1          1790           3929214         $44,377               1.13 cents\n",
              "2          1800           5308483         $66,109               1.24 cents\n",
              "3          1810           7239881        $178,445               2.46 cents\n",
              "4          1820           9633822        $208,526               2.16 cents\n",
              "5          1830          12866020        $378,545               2.94 cents\n",
              "6          1840          17069458        $833,371               4.88 cents\n",
              "7          1850          23191876      $1,423,351               6.14 cents\n",
              "8          1860          31443321      $1,969,377               6.26 cents\n",
              "9          1870          38558371      $3,421,198               8.87 cents\n",
              "10         1880          50155783      $5,790,678              11.54 cents\n",
              "11         1890          62979766     $11,547,127              18.33 cents\n",
              "12         1900          76303387     $11,854,000              15.54 cents\n",
              "13         1910          91972266     $15,968,000              17.07 cents\n",
              "14         1920         105710620     $25,117,000              23.76 cents\n",
              "15         1930         122775046     $40,156,000              32.71 cents\n",
              "16         1940         131669275     $67,527,000              51.29 cents\n",
              "17         1950         151325798     $91,462,000              60.44 cents\n",
              "18         1960         179323175    $127,934,000              71.34 cents\n",
              "19         1970         203302031    $247,653,000                    $1.22\n",
              "20         1980         226542199  $1,078,488,000                    $4.76\n",
              "21         1990         248718301  $2,492,830,000                   $10.02\n",
              "22         2000         281421906    $4.5 Billion                   $15.99\n",
              "23        2010*         308745538     $13 Billion                   $42.11"
            ]
          },
          "metadata": {
            "tags": []
          },
          "execution_count": 27
        }
      ]
    },
    {
      "cell_type": "code",
      "metadata": {
        "colab": {
          "base_uri": "https://localhost:8080/"
        },
        "id": "iBa9dRu22tgP",
        "outputId": "0a49f77e-bca4-46e3-efa1-f67738b171a9"
      },
      "source": [
        "df1.info()"
      ],
      "execution_count": 28,
      "outputs": [
        {
          "output_type": "stream",
          "text": [
            "<class 'pandas.core.frame.DataFrame'>\n",
            "RangeIndex: 24 entries, 0 to 23\n",
            "Data columns (total 4 columns):\n",
            " #   Column  Non-Null Count  Dtype \n",
            "---  ------  --------------  ----- \n",
            " 0   0       24 non-null     object\n",
            " 1   1       24 non-null     object\n",
            " 2   2       24 non-null     object\n",
            " 3   3       24 non-null     object\n",
            "dtypes: object(4)\n",
            "memory usage: 896.0+ bytes\n"
          ],
          "name": "stdout"
        }
      ]
    },
    {
      "cell_type": "markdown",
      "metadata": {
        "id": "oxQjvtdJvlB-"
      },
      "source": [
        "4. Document the data quality issues using a Markdown cell so the reader understands what the problems are.\n"
      ]
    },
    {
      "cell_type": "markdown",
      "metadata": {
        "id": "RtXJXgSj3pT-"
      },
      "source": [
        "1) The 0,1,2,3 above column labeling is unnecessary.\n",
        "\n",
        "2) Row 23 under census year there is a * after 2010. Needs to be removed.\n",
        "\n",
        "3) Row 23 and 24 shows 4.5 Billion and 13 Billion in words. Should show numbers instead.\n",
        "\n",
        "4) Average cost per person does not have consistant money unit. Would be better if it is united all into cents or all into dollars. \n",
        "\n",
        "5) Remove '$' for easier conversion.\n",
        "\n"
      ]
    },
    {
      "cell_type": "code",
      "metadata": {
        "colab": {
          "base_uri": "https://localhost:8080/"
        },
        "id": "7TZLJRDwfTlR",
        "outputId": "4e0128f7-6fc7-4fad-9b4f-b152131559dc"
      },
      "source": [
        "df1.columns = df1.iloc[0]\n",
        "\n",
        "# drop the first row \n",
        "df1 = df1.drop(df1.index[0])\n",
        "\n",
        "print(df1)"
      ],
      "execution_count": 29,
      "outputs": [
        {
          "output_type": "stream",
          "text": [
            "0  Census Year Total Population     Census Cost Average Cost Per Person\n",
            "1         1790          3929214         $44,377              1.13 cents\n",
            "2         1800          5308483         $66,109              1.24 cents\n",
            "3         1810          7239881        $178,445              2.46 cents\n",
            "4         1820          9633822        $208,526              2.16 cents\n",
            "5         1830         12866020        $378,545              2.94 cents\n",
            "6         1840         17069458        $833,371              4.88 cents\n",
            "7         1850         23191876      $1,423,351              6.14 cents\n",
            "8         1860         31443321      $1,969,377              6.26 cents\n",
            "9         1870         38558371      $3,421,198              8.87 cents\n",
            "10        1880         50155783      $5,790,678             11.54 cents\n",
            "11        1890         62979766     $11,547,127             18.33 cents\n",
            "12        1900         76303387     $11,854,000             15.54 cents\n",
            "13        1910         91972266     $15,968,000             17.07 cents\n",
            "14        1920        105710620     $25,117,000             23.76 cents\n",
            "15        1930        122775046     $40,156,000             32.71 cents\n",
            "16        1940        131669275     $67,527,000             51.29 cents\n",
            "17        1950        151325798     $91,462,000             60.44 cents\n",
            "18        1960        179323175    $127,934,000             71.34 cents\n",
            "19        1970        203302031    $247,653,000                   $1.22\n",
            "20        1980        226542199  $1,078,488,000                   $4.76\n",
            "21        1990        248718301  $2,492,830,000                  $10.02\n",
            "22        2000        281421906    $4.5 Billion                  $15.99\n",
            "23       2010*        308745538     $13 Billion                  $42.11\n"
          ],
          "name": "stdout"
        }
      ]
    },
    {
      "cell_type": "markdown",
      "metadata": {
        "id": "fDPyNHVWvmuj"
      },
      "source": [
        "5. Write a function named cleanse_year() that takes a string as input and removes any asterisks in the string and return the cleansed string. Test the function by using test strings (for example, \"1989*\", \"20*10\")\n"
      ]
    },
    {
      "cell_type": "code",
      "metadata": {
        "colab": {
          "base_uri": "https://localhost:8080/"
        },
        "id": "sdEFlv_94HB7",
        "outputId": "4a5b180a-77e6-4edd-a503-28f8eefa6476"
      },
      "source": [
        "def cleanse_year(clean_year):\n",
        "    clean = clean_year.replace(\",\",\"\").replace(\"*\",\"\")\n",
        "    if  clean_year.find(\"4.5\") != -1:          \n",
        "        clean = \"45\" + \"0\" * 8\n",
        "    elif clean_year.find(\"Billion\") != -1:     \n",
        "        clean = \"13\" + \"0\" * 9\n",
        "    return clean\n",
        "\n",
        "example1 = \"1989*\"\n",
        "example2 = \"20*10\"\n",
        "print(cleanse_year(example1))\n",
        "print(cleanse_year(example2))"
      ],
      "execution_count": 30,
      "outputs": [
        {
          "output_type": "stream",
          "text": [
            "1989\n",
            "2010\n"
          ],
          "name": "stdout"
        }
      ]
    },
    {
      "cell_type": "markdown",
      "metadata": {
        "id": "0KcRwI3_vn9E"
      },
      "source": [
        "6. Cleanse the column \"Census Year\" using the function cleanse_year() and Pandas's apply() function.\n"
      ]
    },
    {
      "cell_type": "code",
      "metadata": {
        "id": "dGRDmb-l7vh7"
      },
      "source": [
        "df1[\"Census Year\"] = df1[\"Census Year\"].apply(cleanse_year)"
      ],
      "execution_count": 31,
      "outputs": []
    },
    {
      "cell_type": "code",
      "metadata": {
        "colab": {
          "base_uri": "https://localhost:8080/",
          "height": 204
        },
        "id": "T7lbdywQ_DmL",
        "outputId": "b403c0c2-a257-48f6-fa07-151668f4b335"
      },
      "source": [
        "df1.head()"
      ],
      "execution_count": 41,
      "outputs": [
        {
          "output_type": "execute_result",
          "data": {
            "text/html": [
              "<div>\n",
              "<style scoped>\n",
              "    .dataframe tbody tr th:only-of-type {\n",
              "        vertical-align: middle;\n",
              "    }\n",
              "\n",
              "    .dataframe tbody tr th {\n",
              "        vertical-align: top;\n",
              "    }\n",
              "\n",
              "    .dataframe thead th {\n",
              "        text-align: right;\n",
              "    }\n",
              "</style>\n",
              "<table border=\"1\" class=\"dataframe\">\n",
              "  <thead>\n",
              "    <tr style=\"text-align: right;\">\n",
              "      <th></th>\n",
              "      <th>Census Year</th>\n",
              "      <th>Total Population</th>\n",
              "      <th>Census Cost</th>\n",
              "      <th>Average Cost Per Person</th>\n",
              "    </tr>\n",
              "  </thead>\n",
              "  <tbody>\n",
              "    <tr>\n",
              "      <th>1</th>\n",
              "      <td>1790</td>\n",
              "      <td>3929214</td>\n",
              "      <td>$44377</td>\n",
              "      <td>1.13 cents</td>\n",
              "    </tr>\n",
              "    <tr>\n",
              "      <th>2</th>\n",
              "      <td>1800</td>\n",
              "      <td>5308483</td>\n",
              "      <td>$66109</td>\n",
              "      <td>1.24 cents</td>\n",
              "    </tr>\n",
              "    <tr>\n",
              "      <th>3</th>\n",
              "      <td>1810</td>\n",
              "      <td>7239881</td>\n",
              "      <td>$178445</td>\n",
              "      <td>2.46 cents</td>\n",
              "    </tr>\n",
              "    <tr>\n",
              "      <th>4</th>\n",
              "      <td>1820</td>\n",
              "      <td>9633822</td>\n",
              "      <td>$208526</td>\n",
              "      <td>2.16 cents</td>\n",
              "    </tr>\n",
              "    <tr>\n",
              "      <th>5</th>\n",
              "      <td>1830</td>\n",
              "      <td>12866020</td>\n",
              "      <td>$378545</td>\n",
              "      <td>2.94 cents</td>\n",
              "    </tr>\n",
              "  </tbody>\n",
              "</table>\n",
              "</div>"
            ],
            "text/plain": [
              "0 Census Year Total Population Census Cost Average Cost Per Person\n",
              "1        1790          3929214      $44377              1.13 cents\n",
              "2        1800          5308483      $66109              1.24 cents\n",
              "3        1810          7239881     $178445              2.46 cents\n",
              "4        1820          9633822     $208526              2.16 cents\n",
              "5        1830         12866020     $378545              2.94 cents"
            ]
          },
          "metadata": {
            "tags": []
          },
          "execution_count": 41
        }
      ]
    },
    {
      "cell_type": "markdown",
      "metadata": {
        "id": "qPJxq03EvpBa"
      },
      "source": [
        "7. Repeat this process for column \"Total Population\", \"Census Cost\", \"Average Cost Per Person\". (define, test, and apply the function)\n"
      ]
    },
    {
      "cell_type": "code",
      "metadata": {
        "colab": {
          "base_uri": "https://localhost:8080/"
        },
        "id": "cT7uj0L385UN",
        "outputId": "6b23f9fe-eb92-457a-c44a-6d0d372ac494"
      },
      "source": [
        "def cleanse_year(clean_year):\n",
        "    clean = clean_year.replace(\",\",\"\").replace(\"*\",\"\")\n",
        "    if  clean_year.find(\"4.5\") != -1:          \n",
        "        clean = \"45\" + \"0\" * 8\n",
        "    elif clean_year.find(\"Billion\") != -1:     \n",
        "        clean = \"13\" + \"0\" * 9\n",
        "    return clean\n",
        "\n",
        "example1 = \"1989*\"\n",
        "example2 = \"20*10\"\n",
        "print(cleanse_year(example1))\n",
        "print(cleanse_year(example2))"
      ],
      "execution_count": 32,
      "outputs": [
        {
          "output_type": "stream",
          "text": [
            "1989\n",
            "2010\n"
          ],
          "name": "stdout"
        }
      ]
    },
    {
      "cell_type": "code",
      "metadata": {
        "id": "igzp8K7I9oBp"
      },
      "source": [
        "df1[\"Total Population\"] = df1[\"Total Population\"].apply(cleanse_year)"
      ],
      "execution_count": 33,
      "outputs": []
    },
    {
      "cell_type": "code",
      "metadata": {
        "colab": {
          "base_uri": "https://localhost:8080/",
          "height": 204
        },
        "id": "lDRrIkpB-e-w",
        "outputId": "aceae1f4-e1ed-4962-f7e7-847aae7356c5"
      },
      "source": [
        "df1.head()"
      ],
      "execution_count": 34,
      "outputs": [
        {
          "output_type": "execute_result",
          "data": {
            "text/html": [
              "<div>\n",
              "<style scoped>\n",
              "    .dataframe tbody tr th:only-of-type {\n",
              "        vertical-align: middle;\n",
              "    }\n",
              "\n",
              "    .dataframe tbody tr th {\n",
              "        vertical-align: top;\n",
              "    }\n",
              "\n",
              "    .dataframe thead th {\n",
              "        text-align: right;\n",
              "    }\n",
              "</style>\n",
              "<table border=\"1\" class=\"dataframe\">\n",
              "  <thead>\n",
              "    <tr style=\"text-align: right;\">\n",
              "      <th></th>\n",
              "      <th>Census Year</th>\n",
              "      <th>Total Population</th>\n",
              "      <th>Census Cost</th>\n",
              "      <th>Average Cost Per Person</th>\n",
              "    </tr>\n",
              "  </thead>\n",
              "  <tbody>\n",
              "    <tr>\n",
              "      <th>1</th>\n",
              "      <td>1790</td>\n",
              "      <td>3929214</td>\n",
              "      <td>$44,377</td>\n",
              "      <td>1.13 cents</td>\n",
              "    </tr>\n",
              "    <tr>\n",
              "      <th>2</th>\n",
              "      <td>1800</td>\n",
              "      <td>5308483</td>\n",
              "      <td>$66,109</td>\n",
              "      <td>1.24 cents</td>\n",
              "    </tr>\n",
              "    <tr>\n",
              "      <th>3</th>\n",
              "      <td>1810</td>\n",
              "      <td>7239881</td>\n",
              "      <td>$178,445</td>\n",
              "      <td>2.46 cents</td>\n",
              "    </tr>\n",
              "    <tr>\n",
              "      <th>4</th>\n",
              "      <td>1820</td>\n",
              "      <td>9633822</td>\n",
              "      <td>$208,526</td>\n",
              "      <td>2.16 cents</td>\n",
              "    </tr>\n",
              "    <tr>\n",
              "      <th>5</th>\n",
              "      <td>1830</td>\n",
              "      <td>12866020</td>\n",
              "      <td>$378,545</td>\n",
              "      <td>2.94 cents</td>\n",
              "    </tr>\n",
              "  </tbody>\n",
              "</table>\n",
              "</div>"
            ],
            "text/plain": [
              "0 Census Year Total Population Census Cost Average Cost Per Person\n",
              "1        1790          3929214     $44,377              1.13 cents\n",
              "2        1800          5308483     $66,109              1.24 cents\n",
              "3        1810          7239881    $178,445              2.46 cents\n",
              "4        1820          9633822    $208,526              2.16 cents\n",
              "5        1830         12866020    $378,545              2.94 cents"
            ]
          },
          "metadata": {
            "tags": []
          },
          "execution_count": 34
        }
      ]
    },
    {
      "cell_type": "code",
      "metadata": {
        "colab": {
          "base_uri": "https://localhost:8080/"
        },
        "id": "fRcmx9UB918B",
        "outputId": "4e0a1c2c-85d7-44de-ee9e-c6a51768e549"
      },
      "source": [
        "def cleanse_cost(clean_cost):\n",
        "    cost = clean_cost.lstrip(\"$\").replace(\",\",\"\").replace(\"*\",\"\")\n",
        "    if  clean_cost.find(\"4.5\") != -1:          \n",
        "        cost = \"45\" + \"0\" * 8\n",
        "    elif clean_cost.find(\"Billion\") != -1:     \n",
        "        cost = \"13\" + \"0\" * 9\n",
        "    return cost\n",
        "\n",
        "example1 = \"1989*\"\n",
        "example2 = \"20*10\"\n",
        "print(cleanse_cost(example1))\n",
        "print(cleanse_cost(example2))"
      ],
      "execution_count": 44,
      "outputs": [
        {
          "output_type": "stream",
          "text": [
            "1989\n",
            "2010\n"
          ],
          "name": "stdout"
        }
      ]
    },
    {
      "cell_type": "code",
      "metadata": {
        "id": "4plYC0C--IiB"
      },
      "source": [
        "df1[\"Census Cost\"] = df1[\"Census Cost\"].apply(cleanse_cost)"
      ],
      "execution_count": 45,
      "outputs": []
    },
    {
      "cell_type": "code",
      "metadata": {
        "colab": {
          "base_uri": "https://localhost:8080/",
          "height": 204
        },
        "id": "zCoBl4-o_Kuk",
        "outputId": "befd261e-bc63-4021-9dc6-7c15b3c58ccd"
      },
      "source": [
        "df1.head()"
      ],
      "execution_count": 46,
      "outputs": [
        {
          "output_type": "execute_result",
          "data": {
            "text/html": [
              "<div>\n",
              "<style scoped>\n",
              "    .dataframe tbody tr th:only-of-type {\n",
              "        vertical-align: middle;\n",
              "    }\n",
              "\n",
              "    .dataframe tbody tr th {\n",
              "        vertical-align: top;\n",
              "    }\n",
              "\n",
              "    .dataframe thead th {\n",
              "        text-align: right;\n",
              "    }\n",
              "</style>\n",
              "<table border=\"1\" class=\"dataframe\">\n",
              "  <thead>\n",
              "    <tr style=\"text-align: right;\">\n",
              "      <th></th>\n",
              "      <th>Census Year</th>\n",
              "      <th>Total Population</th>\n",
              "      <th>Census Cost</th>\n",
              "      <th>Average Cost Per Person</th>\n",
              "    </tr>\n",
              "  </thead>\n",
              "  <tbody>\n",
              "    <tr>\n",
              "      <th>1</th>\n",
              "      <td>1790</td>\n",
              "      <td>3929214</td>\n",
              "      <td>44377</td>\n",
              "      <td>1.13 cents</td>\n",
              "    </tr>\n",
              "    <tr>\n",
              "      <th>2</th>\n",
              "      <td>1800</td>\n",
              "      <td>5308483</td>\n",
              "      <td>66109</td>\n",
              "      <td>1.24 cents</td>\n",
              "    </tr>\n",
              "    <tr>\n",
              "      <th>3</th>\n",
              "      <td>1810</td>\n",
              "      <td>7239881</td>\n",
              "      <td>178445</td>\n",
              "      <td>2.46 cents</td>\n",
              "    </tr>\n",
              "    <tr>\n",
              "      <th>4</th>\n",
              "      <td>1820</td>\n",
              "      <td>9633822</td>\n",
              "      <td>208526</td>\n",
              "      <td>2.16 cents</td>\n",
              "    </tr>\n",
              "    <tr>\n",
              "      <th>5</th>\n",
              "      <td>1830</td>\n",
              "      <td>12866020</td>\n",
              "      <td>378545</td>\n",
              "      <td>2.94 cents</td>\n",
              "    </tr>\n",
              "  </tbody>\n",
              "</table>\n",
              "</div>"
            ],
            "text/plain": [
              "0 Census Year Total Population Census Cost Average Cost Per Person\n",
              "1        1790          3929214       44377              1.13 cents\n",
              "2        1800          5308483       66109              1.24 cents\n",
              "3        1810          7239881      178445              2.46 cents\n",
              "4        1820          9633822      208526              2.16 cents\n",
              "5        1830         12866020      378545              2.94 cents"
            ]
          },
          "metadata": {
            "tags": []
          },
          "execution_count": 46
        }
      ]
    },
    {
      "cell_type": "code",
      "metadata": {
        "colab": {
          "base_uri": "https://localhost:8080/"
        },
        "id": "xSJOHBjo-T13",
        "outputId": "b8769631-748b-4403-f8ec-eac7f0a5da76"
      },
      "source": [
        "def cleanse_avcost(clean_avcost):\n",
        "    avcost = clean_avcost.lstrip(\"$\").replace(\",\",\"\").replace(\"*\",\"\").replace(\"cents\",\"\")\n",
        "    if  clean_avcost.find(\"4.5\") != -1:          \n",
        "        avcost = \"45\" + \"0\" * 8\n",
        "    elif clean_avcost.find(\"Billion\") != -1:     \n",
        "        avcost = \"13\" + \"0\" * 9\n",
        "    return avcost\n",
        "\n",
        "example1 = \"$1989*\"\n",
        "example2 = \"$20*10\"\n",
        "print(cleanse_avcost(example1))\n",
        "print(cleanse_avcost(example2))"
      ],
      "execution_count": 52,
      "outputs": [
        {
          "output_type": "stream",
          "text": [
            "1989\n",
            "2010\n"
          ],
          "name": "stdout"
        }
      ]
    },
    {
      "cell_type": "code",
      "metadata": {
        "id": "1EoAXvLX-q8c"
      },
      "source": [
        "df1[\"Average Cost Per Person\"] = df1[\"Average Cost Per Person\"].apply(cleanse_avcost)"
      ],
      "execution_count": 53,
      "outputs": []
    },
    {
      "cell_type": "code",
      "metadata": {
        "colab": {
          "base_uri": "https://localhost:8080/",
          "height": 204
        },
        "id": "_qGw6TAP_aHA",
        "outputId": "bdeecb72-25fe-48cc-b4e7-3b63f12457af"
      },
      "source": [
        "df1.head()"
      ],
      "execution_count": 54,
      "outputs": [
        {
          "output_type": "execute_result",
          "data": {
            "text/html": [
              "<div>\n",
              "<style scoped>\n",
              "    .dataframe tbody tr th:only-of-type {\n",
              "        vertical-align: middle;\n",
              "    }\n",
              "\n",
              "    .dataframe tbody tr th {\n",
              "        vertical-align: top;\n",
              "    }\n",
              "\n",
              "    .dataframe thead th {\n",
              "        text-align: right;\n",
              "    }\n",
              "</style>\n",
              "<table border=\"1\" class=\"dataframe\">\n",
              "  <thead>\n",
              "    <tr style=\"text-align: right;\">\n",
              "      <th></th>\n",
              "      <th>Census Year</th>\n",
              "      <th>Total Population</th>\n",
              "      <th>Census Cost</th>\n",
              "      <th>Average Cost Per Person</th>\n",
              "    </tr>\n",
              "  </thead>\n",
              "  <tbody>\n",
              "    <tr>\n",
              "      <th>1</th>\n",
              "      <td>1790</td>\n",
              "      <td>3929214</td>\n",
              "      <td>44377</td>\n",
              "      <td>1.13</td>\n",
              "    </tr>\n",
              "    <tr>\n",
              "      <th>2</th>\n",
              "      <td>1800</td>\n",
              "      <td>5308483</td>\n",
              "      <td>66109</td>\n",
              "      <td>1.24</td>\n",
              "    </tr>\n",
              "    <tr>\n",
              "      <th>3</th>\n",
              "      <td>1810</td>\n",
              "      <td>7239881</td>\n",
              "      <td>178445</td>\n",
              "      <td>2.46</td>\n",
              "    </tr>\n",
              "    <tr>\n",
              "      <th>4</th>\n",
              "      <td>1820</td>\n",
              "      <td>9633822</td>\n",
              "      <td>208526</td>\n",
              "      <td>2.16</td>\n",
              "    </tr>\n",
              "    <tr>\n",
              "      <th>5</th>\n",
              "      <td>1830</td>\n",
              "      <td>12866020</td>\n",
              "      <td>378545</td>\n",
              "      <td>2.94</td>\n",
              "    </tr>\n",
              "  </tbody>\n",
              "</table>\n",
              "</div>"
            ],
            "text/plain": [
              "0 Census Year Total Population Census Cost Average Cost Per Person\n",
              "1        1790          3929214       44377                   1.13 \n",
              "2        1800          5308483       66109                   1.24 \n",
              "3        1810          7239881      178445                   2.46 \n",
              "4        1820          9633822      208526                   2.16 \n",
              "5        1830         12866020      378545                   2.94 "
            ]
          },
          "metadata": {
            "tags": []
          },
          "execution_count": 54
        }
      ]
    },
    {
      "cell_type": "markdown",
      "metadata": {
        "id": "7sBNMnkIvqGQ"
      },
      "source": [
        "8. After all columns are cleansed, save the clenased dataframe to a file named \"census_cost_cleansed.csv\" using CSV format.\n"
      ]
    },
    {
      "cell_type": "code",
      "metadata": {
        "id": "jyqlWgfo-6n5"
      },
      "source": [
        "df1.to_csv('census_cost_cleansed.csv')"
      ],
      "execution_count": 55,
      "outputs": []
    },
    {
      "cell_type": "markdown",
      "metadata": {
        "id": "c4Ga10HCvrIa"
      },
      "source": [
        "9. Use Pandas to read the saved cleansed file and explore to make sure it is clean.\n"
      ]
    },
    {
      "cell_type": "code",
      "metadata": {
        "colab": {
          "base_uri": "https://localhost:8080/",
          "height": 762
        },
        "id": "NtSGCwHj-98m",
        "outputId": "6204f438-dc68-4405-e146-874ee9211049"
      },
      "source": [
        "dfnew=pd.read_csv('census_cost_cleansed.csv')\n",
        "dfnew"
      ],
      "execution_count": 56,
      "outputs": [
        {
          "output_type": "execute_result",
          "data": {
            "text/html": [
              "<div>\n",
              "<style scoped>\n",
              "    .dataframe tbody tr th:only-of-type {\n",
              "        vertical-align: middle;\n",
              "    }\n",
              "\n",
              "    .dataframe tbody tr th {\n",
              "        vertical-align: top;\n",
              "    }\n",
              "\n",
              "    .dataframe thead th {\n",
              "        text-align: right;\n",
              "    }\n",
              "</style>\n",
              "<table border=\"1\" class=\"dataframe\">\n",
              "  <thead>\n",
              "    <tr style=\"text-align: right;\">\n",
              "      <th></th>\n",
              "      <th>Unnamed: 0</th>\n",
              "      <th>Census Year</th>\n",
              "      <th>Total Population</th>\n",
              "      <th>Census Cost</th>\n",
              "      <th>Average Cost Per Person</th>\n",
              "    </tr>\n",
              "  </thead>\n",
              "  <tbody>\n",
              "    <tr>\n",
              "      <th>0</th>\n",
              "      <td>1</td>\n",
              "      <td>1790</td>\n",
              "      <td>3929214</td>\n",
              "      <td>44377</td>\n",
              "      <td>1.13</td>\n",
              "    </tr>\n",
              "    <tr>\n",
              "      <th>1</th>\n",
              "      <td>2</td>\n",
              "      <td>1800</td>\n",
              "      <td>5308483</td>\n",
              "      <td>66109</td>\n",
              "      <td>1.24</td>\n",
              "    </tr>\n",
              "    <tr>\n",
              "      <th>2</th>\n",
              "      <td>3</td>\n",
              "      <td>1810</td>\n",
              "      <td>7239881</td>\n",
              "      <td>178445</td>\n",
              "      <td>2.46</td>\n",
              "    </tr>\n",
              "    <tr>\n",
              "      <th>3</th>\n",
              "      <td>4</td>\n",
              "      <td>1820</td>\n",
              "      <td>9633822</td>\n",
              "      <td>208526</td>\n",
              "      <td>2.16</td>\n",
              "    </tr>\n",
              "    <tr>\n",
              "      <th>4</th>\n",
              "      <td>5</td>\n",
              "      <td>1830</td>\n",
              "      <td>12866020</td>\n",
              "      <td>378545</td>\n",
              "      <td>2.94</td>\n",
              "    </tr>\n",
              "    <tr>\n",
              "      <th>5</th>\n",
              "      <td>6</td>\n",
              "      <td>1840</td>\n",
              "      <td>17069458</td>\n",
              "      <td>833371</td>\n",
              "      <td>4.88</td>\n",
              "    </tr>\n",
              "    <tr>\n",
              "      <th>6</th>\n",
              "      <td>7</td>\n",
              "      <td>1850</td>\n",
              "      <td>23191876</td>\n",
              "      <td>1423351</td>\n",
              "      <td>6.14</td>\n",
              "    </tr>\n",
              "    <tr>\n",
              "      <th>7</th>\n",
              "      <td>8</td>\n",
              "      <td>1860</td>\n",
              "      <td>31443321</td>\n",
              "      <td>1969377</td>\n",
              "      <td>6.26</td>\n",
              "    </tr>\n",
              "    <tr>\n",
              "      <th>8</th>\n",
              "      <td>9</td>\n",
              "      <td>1870</td>\n",
              "      <td>38558371</td>\n",
              "      <td>3421198</td>\n",
              "      <td>8.87</td>\n",
              "    </tr>\n",
              "    <tr>\n",
              "      <th>9</th>\n",
              "      <td>10</td>\n",
              "      <td>1880</td>\n",
              "      <td>50155783</td>\n",
              "      <td>5790678</td>\n",
              "      <td>11.54</td>\n",
              "    </tr>\n",
              "    <tr>\n",
              "      <th>10</th>\n",
              "      <td>11</td>\n",
              "      <td>1890</td>\n",
              "      <td>62979766</td>\n",
              "      <td>11547127</td>\n",
              "      <td>18.33</td>\n",
              "    </tr>\n",
              "    <tr>\n",
              "      <th>11</th>\n",
              "      <td>12</td>\n",
              "      <td>1900</td>\n",
              "      <td>76303387</td>\n",
              "      <td>11854000</td>\n",
              "      <td>15.54</td>\n",
              "    </tr>\n",
              "    <tr>\n",
              "      <th>12</th>\n",
              "      <td>13</td>\n",
              "      <td>1910</td>\n",
              "      <td>91972266</td>\n",
              "      <td>15968000</td>\n",
              "      <td>17.07</td>\n",
              "    </tr>\n",
              "    <tr>\n",
              "      <th>13</th>\n",
              "      <td>14</td>\n",
              "      <td>1920</td>\n",
              "      <td>105710620</td>\n",
              "      <td>25117000</td>\n",
              "      <td>23.76</td>\n",
              "    </tr>\n",
              "    <tr>\n",
              "      <th>14</th>\n",
              "      <td>15</td>\n",
              "      <td>1930</td>\n",
              "      <td>122775046</td>\n",
              "      <td>40156000</td>\n",
              "      <td>32.71</td>\n",
              "    </tr>\n",
              "    <tr>\n",
              "      <th>15</th>\n",
              "      <td>16</td>\n",
              "      <td>1940</td>\n",
              "      <td>131669275</td>\n",
              "      <td>67527000</td>\n",
              "      <td>51.29</td>\n",
              "    </tr>\n",
              "    <tr>\n",
              "      <th>16</th>\n",
              "      <td>17</td>\n",
              "      <td>1950</td>\n",
              "      <td>151325798</td>\n",
              "      <td>91462000</td>\n",
              "      <td>60.44</td>\n",
              "    </tr>\n",
              "    <tr>\n",
              "      <th>17</th>\n",
              "      <td>18</td>\n",
              "      <td>1960</td>\n",
              "      <td>179323175</td>\n",
              "      <td>127934000</td>\n",
              "      <td>71.34</td>\n",
              "    </tr>\n",
              "    <tr>\n",
              "      <th>18</th>\n",
              "      <td>19</td>\n",
              "      <td>1970</td>\n",
              "      <td>203302031</td>\n",
              "      <td>247653000</td>\n",
              "      <td>1.22</td>\n",
              "    </tr>\n",
              "    <tr>\n",
              "      <th>19</th>\n",
              "      <td>20</td>\n",
              "      <td>1980</td>\n",
              "      <td>226542199</td>\n",
              "      <td>1078488000</td>\n",
              "      <td>4.76</td>\n",
              "    </tr>\n",
              "    <tr>\n",
              "      <th>20</th>\n",
              "      <td>21</td>\n",
              "      <td>1990</td>\n",
              "      <td>248718301</td>\n",
              "      <td>2492830000</td>\n",
              "      <td>10.02</td>\n",
              "    </tr>\n",
              "    <tr>\n",
              "      <th>21</th>\n",
              "      <td>22</td>\n",
              "      <td>2000</td>\n",
              "      <td>281421906</td>\n",
              "      <td>4500000000</td>\n",
              "      <td>15.99</td>\n",
              "    </tr>\n",
              "    <tr>\n",
              "      <th>22</th>\n",
              "      <td>23</td>\n",
              "      <td>2010</td>\n",
              "      <td>308745538</td>\n",
              "      <td>13000000000</td>\n",
              "      <td>42.11</td>\n",
              "    </tr>\n",
              "  </tbody>\n",
              "</table>\n",
              "</div>"
            ],
            "text/plain": [
              "    Unnamed: 0  Census Year  ...  Census Cost  Average Cost Per Person\n",
              "0            1         1790  ...        44377                     1.13\n",
              "1            2         1800  ...        66109                     1.24\n",
              "2            3         1810  ...       178445                     2.46\n",
              "3            4         1820  ...       208526                     2.16\n",
              "4            5         1830  ...       378545                     2.94\n",
              "5            6         1840  ...       833371                     4.88\n",
              "6            7         1850  ...      1423351                     6.14\n",
              "7            8         1860  ...      1969377                     6.26\n",
              "8            9         1870  ...      3421198                     8.87\n",
              "9           10         1880  ...      5790678                    11.54\n",
              "10          11         1890  ...     11547127                    18.33\n",
              "11          12         1900  ...     11854000                    15.54\n",
              "12          13         1910  ...     15968000                    17.07\n",
              "13          14         1920  ...     25117000                    23.76\n",
              "14          15         1930  ...     40156000                    32.71\n",
              "15          16         1940  ...     67527000                    51.29\n",
              "16          17         1950  ...     91462000                    60.44\n",
              "17          18         1960  ...    127934000                    71.34\n",
              "18          19         1970  ...    247653000                     1.22\n",
              "19          20         1980  ...   1078488000                     4.76\n",
              "20          21         1990  ...   2492830000                    10.02\n",
              "21          22         2000  ...   4500000000                    15.99\n",
              "22          23         2010  ...  13000000000                    42.11\n",
              "\n",
              "[23 rows x 5 columns]"
            ]
          },
          "metadata": {
            "tags": []
          },
          "execution_count": 56
        }
      ]
    },
    {
      "cell_type": "markdown",
      "metadata": {
        "id": "AmH7by5gvsKc"
      },
      "source": [
        "10. Updload both the Jupyter notebook and the cleanse data file to GitHub and submit the GitHub link in BlackBoard.\n"
      ]
    },
    {
      "cell_type": "code",
      "metadata": {
        "id": "YCX9NTsn6Cd3"
      },
      "source": [
        ""
      ],
      "execution_count": 40,
      "outputs": []
    }
  ]
}